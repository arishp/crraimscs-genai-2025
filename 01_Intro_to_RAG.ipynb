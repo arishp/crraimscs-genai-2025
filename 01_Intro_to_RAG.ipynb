{
  "cells": [
    {
      "cell_type": "markdown",
      "metadata": {
        "colab_type": "text",
        "id": "view-in-github"
      },
      "source": [
        "<a href=\"https://colab.research.google.com/github/arishp/srm-ap-genai-2024/blob/main/02_Intro_to_RAG.ipynb\" target=\"_parent\"><img src=\"https://colab.research.google.com/assets/colab-badge.svg\" alt=\"Open In Colab\"/></a>"
      ]
    },
    {
      "cell_type": "code",
      "execution_count": 7,
      "metadata": {
        "id": "kfDBJp4LwVv4"
      },
      "outputs": [],
      "source": [
        "from langchain.document_loaders import TextLoader\n",
        "from langchain.text_splitter import CharacterTextSplitter\n",
        "from langchain.embeddings import OpenAIEmbeddings\n",
        "from langchain.vectorstores import Chroma\n",
        "from langchain.chains import RetrievalQA\n",
        "from langchain.embeddings.sentence_transformer import SentenceTransformerEmbeddings\n",
        "from langchain_huggingface import HuggingFaceEndpoint\n",
        "from langchain_huggingface import HuggingFaceEmbeddings"
      ]
    },
    {
      "cell_type": "markdown",
      "metadata": {
        "id": "Z1JXcPWgxWId"
      },
      "source": [
        "# Document Loaders"
      ]
    },
    {
      "cell_type": "code",
      "execution_count": 3,
      "metadata": {
        "colab": {
          "base_uri": "https://localhost:8080/"
        },
        "id": "62_lQV7-wfj0",
        "outputId": "18624b21-a64b-4998-a00e-5b08799b79e9"
      },
      "outputs": [
        {
          "data": {
            "text/plain": [
              "1"
            ]
          },
          "execution_count": 3,
          "metadata": {},
          "output_type": "execute_result"
        }
      ],
      "source": [
        "loader = TextLoader('sample.txt')\n",
        "documents = loader.load()\n",
        "len(documents)"
      ]
    },
    {
      "cell_type": "markdown",
      "metadata": {
        "id": "Q9zEDz4cySgY"
      },
      "source": [
        "# Document Transformers"
      ]
    },
    {
      "cell_type": "code",
      "execution_count": 4,
      "metadata": {
        "colab": {
          "base_uri": "https://localhost:8080/"
        },
        "id": "aHKFT2lnx1j7",
        "outputId": "a1a2862f-52ca-48dc-d49a-2afa4f759b3e"
      },
      "outputs": [
        {
          "name": "stderr",
          "output_type": "stream",
          "text": [
            "Created a chunk of size 259, which is longer than the specified 200\n"
          ]
        },
        {
          "data": {
            "text/plain": [
              "152"
            ]
          },
          "execution_count": 4,
          "metadata": {},
          "output_type": "execute_result"
        }
      ],
      "source": [
        "text_splitter = CharacterTextSplitter(separator=\" \", chunk_size=200, chunk_overlap=0)\n",
        "texts = text_splitter.split_documents(documents)\n",
        "len(texts)"
      ]
    },
    {
      "cell_type": "code",
      "execution_count": 5,
      "metadata": {
        "colab": {
          "base_uri": "https://localhost:8080/"
        },
        "id": "SN9qmgQAylYq",
        "outputId": "b5f73e3d-973d-4e52-f085-075f91d7c1d7"
      },
      "outputs": [
        {
          "data": {
            "text/plain": [
              "[Document(metadata={'source': 'sample.txt'}, page_content='Mahendra Singh Dhoni (/məˈheɪndrə ˈsɪŋ dhæˈnɪ/ ⓘ; born 7 July 1981) is an Indian professional cricketer who plays as a right-handed batter and a wicket-keeper. Widely regarded as one of the most'),\n",
              " Document(metadata={'source': 'sample.txt'}, page_content='prolific wicket-keeper batsmen and captains, he represented the Indian cricket team and was the captain of the side in limited overs formats from 2007 to 2017 and in test cricket from 2008 to 2014.')]"
            ]
          },
          "execution_count": 5,
          "metadata": {},
          "output_type": "execute_result"
        }
      ],
      "source": [
        "texts[:2]"
      ]
    },
    {
      "cell_type": "markdown",
      "metadata": {
        "id": "UUgXYx-WzXlT"
      },
      "source": [
        "# Text Embedding Models"
      ]
    },
    {
      "cell_type": "code",
      "execution_count": 8,
      "metadata": {
        "id": "YOGDtxlKzJ6r"
      },
      "outputs": [],
      "source": [
        "# embeddings = SentenceTransformerEmbeddings(model_name=\"all-MiniLM-L6-v2\")\n",
        "embeddings = HuggingFaceEmbeddings(model_name=\"all-MiniLM-L6-v2\")"
      ]
    },
    {
      "cell_type": "markdown",
      "metadata": {
        "id": "EfDdUWga0Lhn"
      },
      "source": [
        "# Vector Stores"
      ]
    },
    {
      "cell_type": "code",
      "execution_count": 9,
      "metadata": {
        "id": "EqXoI4mn0KEO"
      },
      "outputs": [],
      "source": [
        "db = Chroma.from_documents(texts, embeddings)"
      ]
    },
    {
      "cell_type": "code",
      "execution_count": 10,
      "metadata": {
        "id": "c9MylagjzmBi"
      },
      "outputs": [
        {
          "data": {
            "text/plain": [
              "{'ids': ['c5be1219-49a0-487a-8358-811437da2f8e',\n",
              "  'b7ac003e-657b-4d78-aae2-af28d020f713',\n",
              "  'a06ef9b6-5e56-4a96-9362-2cfb6d21dff5',\n",
              "  'c587ff4d-8c49-4097-9e46-40456bfb914c',\n",
              "  '58356f8d-fbce-4841-883b-7b534f375217',\n",
              "  '6cd29e14-1d7d-4dfa-9904-6a7e22228fea',\n",
              "  'e8898176-7625-480b-bc95-e46dc2736c7c',\n",
              "  '2deac7f3-63f0-4aec-9052-baabb40845e7',\n",
              "  '81b65161-0376-46c3-a7f5-a49887d57cb7',\n",
              "  '33c2d11e-1871-4ea5-befd-edb7c24f47c5',\n",
              "  '63434b85-3ff8-4599-b4c6-37d5df4ff314',\n",
              "  '8872a67d-c3ff-4fee-a996-20e4f1c8c65a',\n",
              "  'ae0d2a3f-05e4-4e2b-8cac-3e328535f297',\n",
              "  '93e66af3-a9ee-451a-8787-dd922166ebdc',\n",
              "  '5d77b261-84d2-4fa8-96f2-6f30ecb89520',\n",
              "  '8c094775-9ee9-4dd7-b893-7eb8d99fd5ec',\n",
              "  'dca4c860-9c31-4f6e-be75-b90f4b88bde2',\n",
              "  'ef0d2e68-027b-4cdb-a6a4-82914624d7fe',\n",
              "  '5f38384b-574d-47f0-b32a-d2ddd3bf0746',\n",
              "  '185c8c70-c6f8-440f-913e-223407c66867',\n",
              "  '3f4943ef-f228-4823-b03b-bf31cc5f6daf',\n",
              "  '60d420e8-5c36-45b5-b995-21c81d35d67f',\n",
              "  '2c6e8961-d3ee-460c-a484-b242f7ed17e2',\n",
              "  'c0c437d8-5af2-4ea6-a548-0cccfd489541',\n",
              "  '008c5c23-054d-41e6-8618-3907e6345567',\n",
              "  '783a0052-6e3c-425b-becf-9e9cd9b9f2c9',\n",
              "  '5c3a18ff-43de-457d-b916-c4f13f22ef82',\n",
              "  '7c07097e-1a37-47ec-ada4-4fa104d711c4',\n",
              "  '6a71a662-d4c5-45f2-b699-32b44c78511f',\n",
              "  '1c2b8c78-f5a8-40e0-a603-22fa1ff09f36',\n",
              "  'b15e23d1-5919-4ef6-a536-49196abd095d',\n",
              "  '59fa3404-1813-4128-bbc7-69989135127e',\n",
              "  'd160f6a6-a1b7-4cdf-bed1-75ec7ed1bf5d',\n",
              "  'f0a10b05-c37a-4af6-9855-ef5358975b85',\n",
              "  '115d5262-f24f-4c7d-a9df-ba07e675213e',\n",
              "  'ea7c32bf-a387-49ab-8392-fa79438ef461',\n",
              "  'ee548579-a06f-4bad-8f84-112fc1994074',\n",
              "  '238f7b5d-62ed-4caa-a35d-ef626df1fbfb',\n",
              "  'e709a73b-e274-4090-b05f-acf73a847887',\n",
              "  '4d170a62-bb70-4213-a252-65b28bdaa5fe',\n",
              "  '9d95d031-fc90-4d36-bf3d-79db1ef42df8',\n",
              "  '8872648d-8f82-4914-95cf-0b07e803b219',\n",
              "  '020559c8-69f7-4207-b6ad-1599741e5631',\n",
              "  '173e5a86-93cd-40f6-854f-600551525a7d',\n",
              "  '4cb1cdea-98f1-4239-bba8-692ac63f5198',\n",
              "  '62a5c919-d9ed-406b-8dd7-13f3774493f9',\n",
              "  '3f5a535a-ed46-4f27-bb22-4cd4eed44014',\n",
              "  'be9b10e0-6d25-43f3-aab6-991415b00c0e',\n",
              "  '846aea83-71bf-4872-86ea-9f86d3051d99',\n",
              "  '41c53b86-01d1-4ad8-954c-d334bbebb412',\n",
              "  'c4d8e266-645f-49a7-a3c8-0f8ac290014b',\n",
              "  'f69380bc-af1a-4b54-872c-70be0b8ebcbb',\n",
              "  '31ffd40d-d35a-4b7b-8e68-826348c26af5',\n",
              "  '4de51be3-e9ff-4a1b-8c60-5eb8c4d5be30',\n",
              "  '61927400-854d-4c05-a2c2-e950ef3c2525',\n",
              "  '3d47e305-8ae7-4dac-9bfe-35c5cf44195d',\n",
              "  '578ff9e5-d242-4676-8bab-8844e281c8f4',\n",
              "  '2ea905e2-9483-4941-bb2a-7ed388b0c77e',\n",
              "  '98c4c2ee-c956-4fa9-95af-da8c635c9493',\n",
              "  '10121ba5-a08b-4b20-b126-660ad898548d',\n",
              "  '5af34019-37b3-4543-8ef8-0beb34ad73e0',\n",
              "  '2a290059-dd60-48e1-91c7-6796574802bb',\n",
              "  '784ca4b6-1a72-4d23-b64d-9670dabbc497',\n",
              "  '00ea826d-6ba2-4905-910f-bd2002d4bde9',\n",
              "  '04eac552-5807-473b-8117-44d0933a01ae',\n",
              "  '569223d7-cbae-4de8-a0e5-7257f6f6eaa3',\n",
              "  '2af878d0-3dff-4aa2-823c-688a2ee09d45',\n",
              "  '3343a969-d099-4cf5-b968-369abc0f1a21',\n",
              "  '921256a3-0baa-44e7-abe8-1e3e3bfabde1',\n",
              "  '4342578d-4f58-4cd7-a62d-2601cd16427d',\n",
              "  '3b08ef42-222c-427d-9cd7-fc387a81bdd7',\n",
              "  '0d17dd2f-44b7-4fb1-bec8-d3c580fcb94a',\n",
              "  '038c7799-392d-4335-970f-270ea483a77e',\n",
              "  '875592a6-e92f-4021-94cc-90672bfe3ac9',\n",
              "  '374a1c75-40d0-445a-86c9-487657040b7f',\n",
              "  '09896ccb-ca62-421c-b9a2-e11da94b5f8f',\n",
              "  '83edd64e-855b-4fa7-836b-1eb6b281fa15',\n",
              "  '75afcd32-2407-45e9-b7f6-460e52cb8800',\n",
              "  'ec688f2e-10d5-4b84-90de-14e0a171b010',\n",
              "  'e3eebec8-0e83-4d00-98e0-60f1675e7d85',\n",
              "  '32bd98aa-16ce-4908-9b7e-211b51bc6a4d',\n",
              "  '0dcd9b52-9e38-4ad7-acbd-2090958b58b2',\n",
              "  'da730af4-dff5-4cd7-b5fd-17030d59ec14',\n",
              "  'b6d4fde3-c859-4659-bbd6-00c257066d40',\n",
              "  'feb07245-e5d9-4ec2-a202-61cb72250a7e',\n",
              "  'd2ba4094-6bc2-4012-b693-fe8fce7a474e',\n",
              "  '47930b2f-57f0-4d98-96dc-77978364af4a',\n",
              "  '218a8c09-30e7-4478-8961-cc132f9f130e',\n",
              "  '171d4628-4764-4c21-9b19-ff756badf5a0',\n",
              "  'de9bf8cc-18dc-4491-81e9-e0003b4d524f',\n",
              "  'd61bb788-6d5a-413a-b4ba-de1923f51226',\n",
              "  'ab192e07-3acc-4072-8113-08f943b6a674',\n",
              "  '4282270c-d459-4a11-82c5-c32644e065d6',\n",
              "  'cad24841-e078-493f-9aab-17954dff1326',\n",
              "  'be233bb6-2393-4291-8189-eca58b912e86',\n",
              "  '4d55d795-c33d-4968-abe8-f7694751b2d1',\n",
              "  'eb29bc9c-8323-4f4a-a21d-ec4050ab323c',\n",
              "  '9b5812a3-f7bc-4bf0-b237-e9944adcd53a',\n",
              "  '272a12cd-bbe9-4f77-ad38-92b6c9dc0e07',\n",
              "  '0f0e1af6-c201-4461-8c4f-063d4853add5',\n",
              "  '921825f7-1313-49b8-b3d5-fb90060f62e7',\n",
              "  'dfe7b62c-bae2-4fac-8692-075f0823ce58',\n",
              "  'aec55b92-b5c3-49a0-b434-a934bd705d74',\n",
              "  'dfd11083-38b2-4974-a4d0-dc998aa356c9',\n",
              "  '85f028c8-7c03-4448-9ab3-905215ef4e83',\n",
              "  'd3912a81-2656-42ff-9aa5-6ad175cbe852',\n",
              "  'f7e104cd-0d7f-4a0e-8565-c983c9121e33',\n",
              "  '0ecddc25-0420-42f2-8459-37792bb82e94',\n",
              "  '8bec1901-eec5-4050-9635-94bbd70f658d',\n",
              "  '051c472b-1583-4a17-b04c-8167b25c3c9a',\n",
              "  'e6746906-867c-429a-b292-a16e089461c3',\n",
              "  '4e8673ba-47fa-4371-8eef-2729518a776d',\n",
              "  'cd0b2fb2-d7e4-458d-8958-7be6c34151cd',\n",
              "  'a7434d35-e842-4824-a030-b54850514529',\n",
              "  'ac720195-db41-4ed2-bf21-c8027d5761df',\n",
              "  'f7678517-0104-428c-a991-3bcfbc5be259',\n",
              "  '352bf57d-e921-4d1d-8e89-32805cbac044',\n",
              "  'db40a279-f0c3-4161-97cd-9306e22a5352',\n",
              "  'f304e69c-ebbc-465e-a8ab-d6b071531508',\n",
              "  '4c980f17-f28d-490a-93f7-e484c92e5d78',\n",
              "  '951cbafa-7c95-47d0-b41d-7e1a18944b46',\n",
              "  '61dfc645-d8aa-4d3b-bf00-00e68eaf0f84',\n",
              "  '3bc25103-5b71-4798-a65c-5408994a3084',\n",
              "  '144d97f6-45e1-4c76-ac0f-aaf85390b813',\n",
              "  'aa018ff4-802a-4e3d-9e33-63af37ab928a',\n",
              "  '1ab17333-2ffd-482a-8dd3-4cf32775c459',\n",
              "  '261fe464-97ce-4836-8f31-bf01a7ba9f93',\n",
              "  '2a9e9e81-419c-4fec-b833-74c2694b98cb',\n",
              "  'fe7476f1-d841-4474-8d55-3d4f3b792c65',\n",
              "  'a2deb327-5031-4fbb-bdc7-aec3d6744e92',\n",
              "  'c0befbeb-a1ab-4d80-a211-0e066beae419',\n",
              "  '9b995ee8-69f9-4929-be7b-af5e3afd99de',\n",
              "  '6e6a4cd0-cb29-40fe-89c9-fed8d68331c3',\n",
              "  'e3f4a183-d3e3-43f3-a837-7c5ae6d12a7a',\n",
              "  'd2f915c7-6ad9-4205-889d-4628b4f2a571',\n",
              "  '22619924-b454-49bc-b79c-4a4fca83ea5f',\n",
              "  'ad8e4761-dba9-4a88-b2fb-fdfb9c2ef231',\n",
              "  '29bb7b52-4fa9-451a-82c4-54334338714e',\n",
              "  '0ed504c3-b993-470a-a1d4-fbf58758a1bf',\n",
              "  '03a024c8-49f2-437e-ac00-bb18edc74c20',\n",
              "  '34135ddf-9a76-45dd-9a3d-0b84a1da04c5',\n",
              "  '029e91a2-63ca-403d-88c2-d75922040e9b',\n",
              "  'f0b67384-0109-4ddb-8294-d1c850bd81ae',\n",
              "  'dc953725-a18c-4257-9b16-a6c213295256',\n",
              "  '1b5684dc-e784-4113-bdff-af7a6c1c762c',\n",
              "  '42f86881-2e84-4572-a70f-ad873939c924',\n",
              "  '2fda0274-b460-4729-b71e-d4c9ac7368a9',\n",
              "  'c0d2c1cb-3c9a-4fb1-a89a-6eea210c80f0',\n",
              "  '2dd33820-bd35-443b-ac6b-01c0fea56893',\n",
              "  '958165df-0748-4b6d-b86a-3a026dc17c62',\n",
              "  '578f8453-a238-43dc-a8ae-35857fd529cd',\n",
              "  '96390f02-0b96-4a78-bba2-1fb4052d1f5f'],\n",
              " 'embeddings': array([[-0.02508921,  0.06965112, -0.02522448, ...,  0.01344901,\n",
              "          0.00547433,  0.02619934],\n",
              "        [ 0.01046189,  0.06326669, -0.02408626, ..., -0.00506795,\n",
              "         -0.00628575, -0.01478714],\n",
              "        [ 0.03207748,  0.01906006,  0.01874168, ...,  0.03959723,\n",
              "          0.0367345 ,  0.01119832],\n",
              "        ...,\n",
              "        [-0.08216047,  0.01220652,  0.04246743, ...,  0.00645112,\n",
              "         -0.03482513,  0.05841575],\n",
              "        [-0.08846271,  0.03925776, -0.1240735 , ...,  0.04739257,\n",
              "          0.01032596,  0.0362798 ],\n",
              "        [ 0.00359833,  0.09729115, -0.0255392 , ...,  0.02595604,\n",
              "          0.05553855, -0.03831099]]),\n",
              " 'documents': None,\n",
              " 'uris': None,\n",
              " 'data': None,\n",
              " 'metadatas': None,\n",
              " 'included': [<IncludeEnum.embeddings: 'embeddings'>]}"
            ]
          },
          "execution_count": 10,
          "metadata": {},
          "output_type": "execute_result"
        }
      ],
      "source": [
        "db._collection.get(include=['embeddings'])"
      ]
    },
    {
      "cell_type": "markdown",
      "metadata": {
        "id": "QuvaQwBb04kR"
      },
      "source": [
        "# Retrievers"
      ]
    },
    {
      "cell_type": "code",
      "execution_count": 11,
      "metadata": {
        "id": "ol-RqAc200UK"
      },
      "outputs": [],
      "source": [
        "retriever = db.as_retriever(search_kwargs={\"k\":3})"
      ]
    },
    {
      "cell_type": "code",
      "execution_count": 12,
      "metadata": {
        "colab": {
          "base_uri": "https://localhost:8080/"
        },
        "id": "bejIGX6r1EfB",
        "outputId": "a78c7e2b-b7f6-43a4-9f22-267bef752bb2"
      },
      "outputs": [
        {
          "data": {
            "text/plain": [
              "VectorStoreRetriever(tags=['Chroma', 'HuggingFaceEmbeddings'], vectorstore=<langchain_community.vectorstores.chroma.Chroma object at 0x170f81880>, search_kwargs={'k': 3})"
            ]
          },
          "execution_count": 12,
          "metadata": {},
          "output_type": "execute_result"
        }
      ],
      "source": [
        "retriever"
      ]
    },
    {
      "cell_type": "markdown",
      "metadata": {
        "id": "ZsZ5Oe5i1SU4"
      },
      "source": [
        "# Question 1"
      ]
    },
    {
      "cell_type": "code",
      "execution_count": 13,
      "metadata": {
        "colab": {
          "base_uri": "https://localhost:8080/"
        },
        "id": "z58yALDrhML5",
        "outputId": "dc9c0c0a-8b1c-4fa0-e71a-fa08de99ec3b"
      },
      "outputs": [],
      "source": [
        "question = input(\"enter your question?\")"
      ]
    },
    {
      "cell_type": "code",
      "execution_count": 14,
      "metadata": {
        "colab": {
          "base_uri": "https://localhost:8080/"
        },
        "id": "8qnbt8VE1F_K",
        "outputId": "3941646c-4b97-4656-939f-feca3c092da1"
      },
      "outputs": [],
      "source": [
        "# docs = retriever.get_relevant_documents(question)\n",
        "docs = retriever.invoke(question)"
      ]
    },
    {
      "cell_type": "code",
      "execution_count": 15,
      "metadata": {
        "colab": {
          "base_uri": "https://localhost:8080/"
        },
        "id": "OqWD4_DT1a3i",
        "outputId": "1cc0e44d-41ab-4f2b-bd4a-3d3a6a2c4d7c"
      },
      "outputs": [
        {
          "data": {
            "text/plain": [
              "[Document(metadata={'source': 'sample.txt'}, page_content='Dehradun.[179][180] Dhoni and his wife have a daughter, Ziva Dhoni who was born on 6 February 2015.[181][182] He lives in his farmhouse outside Ranchi.[183] Dhoni is an automotive enthusiast and owns'),\n",
              " Document(metadata={'source': 'sample.txt'}, page_content='Dhoni is also known for his cool-headed demeanor on the field which has earned him the monicker \"Captain cool\".[178]\\n\\nPersonal life\\nDhoni married Sakshi Singh Rawat on 4 July 2010 in'),\n",
              " Document(metadata={'source': 'sample.txt'}, page_content='wicket-keeper.[119] Dhoni is an unorthodox batsman who deviates from conventional coaching manuals to showcase his batting technique.[167] Dhoni displays a proclivity for hitting full-length')]"
            ]
          },
          "execution_count": 15,
          "metadata": {},
          "output_type": "execute_result"
        }
      ],
      "source": [
        "docs"
      ]
    },
    {
      "cell_type": "code",
      "execution_count": 16,
      "metadata": {
        "colab": {
          "base_uri": "https://localhost:8080/"
        },
        "id": "dOYqE_O8noVX",
        "outputId": "b713898a-8091-4ac4-af2b-ef70f792972d"
      },
      "outputs": [
        {
          "name": "stdout",
          "output_type": "stream",
          "text": [
            "Dehradun.[179][180] Dhoni and his wife have a daughter, Ziva Dhoni who was born on 6 February 2015.[181][182] He lives in his farmhouse outside Ranchi.[183] Dhoni is an automotive enthusiast and ownsDhoni is also known for his cool-headed demeanor on the field which has earned him the monicker \"Captain cool\".[178]\n",
            "\n",
            "Personal life\n",
            "Dhoni married Sakshi Singh Rawat on 4 July 2010 inwicket-keeper.[119] Dhoni is an unorthodox batsman who deviates from conventional coaching manuals to showcase his batting technique.[167] Dhoni displays a proclivity for hitting full-length\n"
          ]
        }
      ],
      "source": [
        "relevant_text = ''\n",
        "for doc in docs:\n",
        "  relevant_text += doc.page_content\n",
        "print(relevant_text)"
      ]
    },
    {
      "cell_type": "code",
      "execution_count": 21,
      "metadata": {
        "colab": {
          "base_uri": "https://localhost:8080/"
        },
        "id": "5e5525Rxi9XT",
        "outputId": "df03e97f-b78f-4b99-d108-956ad039fa0d"
      },
      "outputs": [],
      "source": [
        "from langchain_community.llms import HuggingFaceEndpoint\n",
        "from langchain.chains import LLMChain\n",
        "from langchain.prompts import PromptTemplate\n",
        "from dotenv import load_dotenv\n",
        "import os\n",
        "\n",
        "load_dotenv()\n",
        "\n",
        "# hf_token = userdata.get('HUGGINGFACE_HUB_API_KEY')\n",
        "\n",
        "# Define the repository ID for the Gemma 2b model\n",
        "repo_id = \"google/gemma-2b\"\n",
        "\n",
        "# Set up a Hugging Face Endpoint for Gemma 2b model\n",
        "llm = HuggingFaceEndpoint(\n",
        "    repo_id=repo_id, temperature=0.1, huggingfacehub_api_token=os.environ['HUGGINGFACE_HUB_API_KEY']\n",
        ")"
      ]
    },
    {
      "cell_type": "code",
      "execution_count": 22,
      "metadata": {
        "id": "Py_c2BVOjMIw"
      },
      "outputs": [],
      "source": [
        "template = \"\"\"Answer the question in one line using the following information:\n",
        "\n",
        "```{information}```.\n",
        "\n",
        "\n",
        "*** Question ***\n",
        "\n",
        "{question}\n",
        "\n",
        "*** Answer ***\"\"\"\n",
        "\n",
        "prompt = PromptTemplate.from_template(template=template)"
      ]
    },
    {
      "cell_type": "code",
      "execution_count": 23,
      "metadata": {
        "colab": {
          "base_uri": "https://localhost:8080/",
          "height": 35
        },
        "id": "E3uP7Jsqp5K6",
        "outputId": "ab3b3b9f-a5e7-44b1-e1de-59821867ae63"
      },
      "outputs": [
        {
          "data": {
            "text/plain": [
              "\"Dhoni's wife is Sakshi Singh Rawat.\""
            ]
          },
          "execution_count": 23,
          "metadata": {},
          "output_type": "execute_result"
        }
      ],
      "source": [
        "prompt_formatted_str: str = prompt.format(question=question, information=relevant_text)\n",
        "response = llm.invoke(prompt_formatted_str)\n",
        "response.strip()"
      ]
    }
  ],
  "metadata": {
    "accelerator": "GPU",
    "colab": {
      "authorship_tag": "ABX9TyM3q3EcQWDgferRMSplC/2a",
      "gpuType": "T4",
      "include_colab_link": true,
      "provenance": []
    },
    "kernelspec": {
      "display_name": ".venv",
      "language": "python",
      "name": "python3"
    },
    "language_info": {
      "codemirror_mode": {
        "name": "ipython",
        "version": 3
      },
      "file_extension": ".py",
      "mimetype": "text/x-python",
      "name": "python",
      "nbconvert_exporter": "python",
      "pygments_lexer": "ipython3",
      "version": "3.9.6"
    }
  },
  "nbformat": 4,
  "nbformat_minor": 0
}
