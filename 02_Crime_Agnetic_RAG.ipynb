{
 "cells": [
  {
   "cell_type": "code",
   "execution_count": 1,
   "metadata": {},
   "outputs": [],
   "source": [
    "import warnings\n",
    "warnings.filterwarnings(\"ignore\")"
   ]
  },
  {
   "cell_type": "code",
   "execution_count": 2,
   "metadata": {},
   "outputs": [
    {
     "data": {
      "text/html": [
       "<div>\n",
       "<style scoped>\n",
       "    .dataframe tbody tr th:only-of-type {\n",
       "        vertical-align: middle;\n",
       "    }\n",
       "\n",
       "    .dataframe tbody tr th {\n",
       "        vertical-align: top;\n",
       "    }\n",
       "\n",
       "    .dataframe thead th {\n",
       "        text-align: right;\n",
       "    }\n",
       "</style>\n",
       "<table border=\"1\" class=\"dataframe\">\n",
       "  <thead>\n",
       "    <tr style=\"text-align: right;\">\n",
       "      <th></th>\n",
       "      <th>Survived</th>\n",
       "      <th>Pclass</th>\n",
       "      <th>Name</th>\n",
       "      <th>Sex</th>\n",
       "      <th>Age</th>\n",
       "      <th>Siblings/Spouses Aboard</th>\n",
       "      <th>Parents/Children Aboard</th>\n",
       "      <th>Fare</th>\n",
       "    </tr>\n",
       "  </thead>\n",
       "  <tbody>\n",
       "    <tr>\n",
       "      <th>0</th>\n",
       "      <td>0</td>\n",
       "      <td>3</td>\n",
       "      <td>Mr. Owen Harris Braund</td>\n",
       "      <td>male</td>\n",
       "      <td>22.0</td>\n",
       "      <td>1</td>\n",
       "      <td>0</td>\n",
       "      <td>7.2500</td>\n",
       "    </tr>\n",
       "    <tr>\n",
       "      <th>1</th>\n",
       "      <td>1</td>\n",
       "      <td>1</td>\n",
       "      <td>Mrs. John Bradley (Florence Briggs Thayer) Cum...</td>\n",
       "      <td>female</td>\n",
       "      <td>38.0</td>\n",
       "      <td>1</td>\n",
       "      <td>0</td>\n",
       "      <td>71.2833</td>\n",
       "    </tr>\n",
       "    <tr>\n",
       "      <th>2</th>\n",
       "      <td>1</td>\n",
       "      <td>3</td>\n",
       "      <td>Miss. Laina Heikkinen</td>\n",
       "      <td>female</td>\n",
       "      <td>26.0</td>\n",
       "      <td>0</td>\n",
       "      <td>0</td>\n",
       "      <td>7.9250</td>\n",
       "    </tr>\n",
       "    <tr>\n",
       "      <th>3</th>\n",
       "      <td>1</td>\n",
       "      <td>1</td>\n",
       "      <td>Mrs. Jacques Heath (Lily May Peel) Futrelle</td>\n",
       "      <td>female</td>\n",
       "      <td>35.0</td>\n",
       "      <td>1</td>\n",
       "      <td>0</td>\n",
       "      <td>53.1000</td>\n",
       "    </tr>\n",
       "    <tr>\n",
       "      <th>4</th>\n",
       "      <td>0</td>\n",
       "      <td>3</td>\n",
       "      <td>Mr. William Henry Allen</td>\n",
       "      <td>male</td>\n",
       "      <td>35.0</td>\n",
       "      <td>0</td>\n",
       "      <td>0</td>\n",
       "      <td>8.0500</td>\n",
       "    </tr>\n",
       "  </tbody>\n",
       "</table>\n",
       "</div>"
      ],
      "text/plain": [
       "   Survived  Pclass                                               Name  \\\n",
       "0         0       3                             Mr. Owen Harris Braund   \n",
       "1         1       1  Mrs. John Bradley (Florence Briggs Thayer) Cum...   \n",
       "2         1       3                              Miss. Laina Heikkinen   \n",
       "3         1       1        Mrs. Jacques Heath (Lily May Peel) Futrelle   \n",
       "4         0       3                            Mr. William Henry Allen   \n",
       "\n",
       "      Sex   Age  Siblings/Spouses Aboard  Parents/Children Aboard     Fare  \n",
       "0    male  22.0                        1                        0   7.2500  \n",
       "1  female  38.0                        1                        0  71.2833  \n",
       "2  female  26.0                        0                        0   7.9250  \n",
       "3  female  35.0                        1                        0  53.1000  \n",
       "4    male  35.0                        0                        0   8.0500  "
      ]
     },
     "execution_count": 2,
     "metadata": {},
     "output_type": "execute_result"
    }
   ],
   "source": [
    "import pandas as pd\n",
    "\n",
    "file_path = ('District_wise_crimes_committed_IPC_2001_2012.csv') # insert the path of the csv file\n",
    "file_path = ('titanic.csv') # insert the path of the csv file\n",
    "data = pd.read_csv(file_path)\n",
    "\n",
    "#preview the csv file\n",
    "data.head()"
   ]
  },
  {
   "cell_type": "code",
   "execution_count": 3,
   "metadata": {},
   "outputs": [],
   "source": [
    "from langchain_community.document_loaders.csv_loader import CSVLoader\n",
    "loader = CSVLoader(file_path=file_path)\n",
    "doc_splits = loader.load_and_split()"
   ]
  },
  {
   "cell_type": "code",
   "execution_count": 6,
   "metadata": {},
   "outputs": [],
   "source": [
    "from langchain_community.vectorstores import Chroma\n",
    "from langchain_aws import BedrockEmbeddings\n",
    "# from langchain_community.embeddings import BedrockEmbeddings\n",
    "import boto3\n",
    "# from langchain_google_genai import GoogleGenerativeAIEmbeddings\n",
    "\n",
    "bedrock_rt = boto3.client(service_name=\"bedrock-runtime\")\n",
    "embedding = BedrockEmbeddings(\n",
    "    client=bedrock_rt,\n",
    "    model_id=\"amazon.titan-embed-text-v1\"\n",
    "    )\n",
    "\n",
    "vectorstore = Chroma.from_documents(\n",
    "    documents=doc_splits,\n",
    "    collection_name=\"rag-chroma\",\n",
    "    embedding = embedding,\n",
    "    # embedding=GoogleGenerativeAIEmbeddings(model='models/embedding-001'),\n",
    "    persist_directory=\"vdb\"\n",
    ")"
   ]
  },
  {
   "cell_type": "code",
   "execution_count": 7,
   "metadata": {},
   "outputs": [],
   "source": [
    "retriever = vectorstore.as_retriever()"
   ]
  },
  {
   "cell_type": "code",
   "execution_count": 8,
   "metadata": {},
   "outputs": [
    {
     "data": {
      "text/plain": [
       "[Document(metadata={'row': 0, 'source': 'titanic.csv'}, page_content='Survived: 0\\nPclass: 3\\nName: Mr. Owen Harris Braund\\nSex: male\\nAge: 22\\nSiblings/Spouses Aboard: 1\\nParents/Children Aboard: 0\\nFare: 7.25'),\n",
       " Document(metadata={'row': 0, 'source': 'titanic.csv'}, page_content='Survived: 0\\nPclass: 3\\nName: Mr. Owen Harris Braund\\nSex: male\\nAge: 22\\nSiblings/Spouses Aboard: 1\\nParents/Children Aboard: 0\\nFare: 7.25'),\n",
       " Document(metadata={'row': 474, 'source': 'titanic.csv'}, page_content='Survived: 0\\nPclass: 3\\nName: Mr. Lewis Richard Braund\\nSex: male\\nAge: 29\\nSiblings/Spouses Aboard: 1\\nParents/Children Aboard: 0\\nFare: 7.0458'),\n",
       " Document(metadata={'row': 474, 'source': 'titanic.csv'}, page_content='Survived: 0\\nPclass: 3\\nName: Mr. Lewis Richard Braund\\nSex: male\\nAge: 29\\nSiblings/Spouses Aboard: 1\\nParents/Children Aboard: 0\\nFare: 7.0458')]"
      ]
     },
     "execution_count": 8,
     "metadata": {},
     "output_type": "execute_result"
    }
   ],
   "source": [
    "retriever.invoke(\"did Mr. Owen Harris Braund survive?\")"
   ]
  },
  {
   "cell_type": "code",
   "execution_count": 9,
   "metadata": {},
   "outputs": [],
   "source": [
    "from langchain.tools.retriever import create_retriever_tool\n",
    "\n",
    "retriever_tool = create_retriever_tool(\n",
    "    retriever,\n",
    "    \"retrieve_csv_file\",\n",
    "    \"Search and return information from the csv files.\",\n",
    ")"
   ]
  },
  {
   "cell_type": "code",
   "execution_count": 10,
   "metadata": {},
   "outputs": [
    {
     "data": {
      "text/plain": [
       "[{'url': 'https://www.nytimes.com/athletic/live-blogs/wimbledon-2024-live-updates-alcaraz-djokovic-mens-final-result/kJJdTKhOgkZo/mGpXBR2QIift/',\n",
       "  'content': \"Carlos Alcaraz beats Novak Djokovic to win the men's singles final In the 2023 final, Carlos Alcaraz won his first Wimbledon title, and only his second Grand Slam title, after beating Novak Djokovic in a five-set thriller on Centre Court. GO FURTHER Novak Djokovic and Carlos Alcaraz’s Wimbledon final is a duel of extraordinary quests Novak Djokovic set up a Wimbledon rematch with Carlos Alcaraz by beating Lorenzo Musetti, 6-4, 7-6, 6-3 on Centre Court on Friday, concluding his run to the final at the All England Club that started just 25 days after surgery on a torn meniscus in his right knee. GO FURTHER Novak Djokovic beats Lorenzo Musetti for Wimbledon final against Carlos Alcaraz\"},\n",
       " {'url': 'https://apnews.com/article/wimbledon-djokovic-rain-injuries-slipping-1963887a00cdbcabb4d7ea9492028245',\n",
       "  'content': \"The woman who beat her last week, Jessica Bouzas Maneiro, stopped at Wimbledon because of a back issue in the third round against Krejcikova. Frances Tiafoe pulled out of the Queen's Club tournament before Wimbledon after spraining a ligament in his right knee when he took a tumble. Tiafoe played at the All England Club with a black sleeve\"},\n",
       " {'url': 'https://www.nbcnews.com/news/sports/andy-murray-wimbledon-tennis-singles-draw-rcna159912',\n",
       "  'content': 'Successive operations allowed him, against the odds, to return to elite tennis, and he reached the third round of Wimbledon in 2021. A third-round match at the Australian Open last year lasted 5'}]"
      ]
     },
     "execution_count": 10,
     "metadata": {},
     "output_type": "execute_result"
    }
   ],
   "source": [
    "from langchain_community.tools import TavilySearchResults\n",
    "\n",
    "internet_search_tool = TavilySearchResults(\n",
    "    max_results=3,\n",
    "    search_depth=\"advanced\",\n",
    "    include_answer=True,\n",
    "    include_raw_content=True,\n",
    "    include_images=True,\n",
    "    \n",
    ")\n",
    "internet_search_tool.invoke({\"query\": \"What happened at the last wimbledon\"})"
   ]
  },
  {
   "cell_type": "code",
   "execution_count": 40,
   "metadata": {},
   "outputs": [],
   "source": [
    "import boto3\n",
    "from langchain_aws import ChatBedrockConverse\n",
    "\n",
    "bedrock_rt = boto3.client(service_name=\"bedrock-runtime\")\n",
    "\n",
    "model_id = \"mistral.mistral-large-2402-v1:0\"\n",
    "model_kwargs =  { \n",
    "    \"max_tokens\": 2048,\n",
    "    \"temperature\": 0.0,\n",
    "    \"top_p\": 1,\n",
    "}\n",
    "\n",
    "model = ChatBedrockConverse(\n",
    "    client=bedrock_rt,\n",
    "    model_id=model_id,\n",
    "    # model_kwargs=model_kwargs,\n",
    ")"
   ]
  },
  {
   "cell_type": "code",
   "execution_count": 41,
   "metadata": {},
   "outputs": [],
   "source": [
    "from typing import Annotated, Sequence\n",
    "from typing_extensions import TypedDict\n",
    "from langchain_core.messages import BaseMessage\n",
    "from langgraph.graph.message import add_messages\n",
    "\n",
    "class AgentState(TypedDict):\n",
    "    # The add_messages function defines how an update should be processed\n",
    "    # Default is to replace. add_messages says \"append\"\n",
    "    messages: Annotated[Sequence[BaseMessage], add_messages]"
   ]
  },
  {
   "cell_type": "code",
   "execution_count": 42,
   "metadata": {},
   "outputs": [],
   "source": [
    "# from langchain_google_genai import ChatGoogleGenerativeAI\n",
    "\n",
    "def agent(state):\n",
    "    \"\"\"\n",
    "    Invokes the agent model to generate a response based on the current state. Given\n",
    "    the question, it will decide to retrieve using the retriever tool.\n",
    "\n",
    "    Args:\n",
    "        state (messages): The current state\n",
    "\n",
    "    Returns:\n",
    "        dict: The updated state with the agent response appended to messages\n",
    "    \"\"\"\n",
    "    print(\"---CALL AGENT---\")\n",
    "    messages = state[\"messages\"]\n",
    "    # model = ChatGoogleGenerativeAI(temperature=0.5, model=\"gemini-2.0-flash-exp\", streaming=True)\n",
    "    tools = [retriever_tool]\n",
    "    model_with_tools = model.bind_tools(tools)\n",
    "    response = model_with_tools.invoke(messages)\n",
    "    # We return a list, because this will get added to the existing list\n",
    "    return {\"messages\": [response]}"
   ]
  },
  {
   "cell_type": "code",
   "execution_count": 43,
   "metadata": {},
   "outputs": [],
   "source": [
    "from typing import Literal\n",
    "from langchain_core.prompts import PromptTemplate\n",
    "from pydantic import BaseModel, Field\n",
    "\n",
    "def grade_documents(state) -> Literal[\"generate\", \"redo\"]:\n",
    "    \"\"\"\n",
    "    Determines whether the retrieved documents are relevant to the question.\n",
    "\n",
    "    Args:\n",
    "        state (messages): The current state\n",
    "\n",
    "    Returns:\n",
    "        str: A decision for whether the documents are relevant or not\n",
    "    \"\"\"\n",
    "    print(\"---CHECK RELEVANCE---\")\n",
    "    # Data model\n",
    "    class grade(BaseModel):\n",
    "        \"\"\"Binary score for relevance check.\"\"\"\n",
    "        binary_score: str = Field(description=\"Relevance score 'yes' or 'no'\")\n",
    "    # LLM\n",
    "    # model = ChatGoogleGenerativeAI(temperature=0.5, model=\"gemini-2.0-flash-exp\", streaming=True)\n",
    "    # LLM with structured output for validation\n",
    "    structured_llm = model.with_structured_output(grade)\n",
    "    # Prompt\n",
    "    prompt = PromptTemplate(\n",
    "        template=\"\"\"You are a grader assessing relevance of a retrieved document to a user question. \\n \n",
    "        Here is the retrieved document: \\n\\n {context} \\n\\n\n",
    "        Here is the user question: {question} \\n\n",
    "        If the document contains keyword(s) or semantic meaning related to the user question, grade it as relevant. \\n\n",
    "        Give a binary score 'yes' or 'no' score to indicate whether the document is relevant to the question.\"\"\",\n",
    "        input_variables=[\"context\", \"question\"],\n",
    "    )\n",
    "    # Chain\n",
    "    chain = prompt | structured_llm\n",
    "    messages = state[\"messages\"]\n",
    "    last_message = messages[-1]\n",
    "    question = messages[0].content\n",
    "    docs = last_message.content\n",
    "    scored_result = chain.invoke({\"question\": question, \"context\": docs})\n",
    "    score = scored_result.binary_score\n",
    "    if score == \"yes\":\n",
    "        print(\"---DECISION: DOCS RELEVANT---\")\n",
    "        return \"generate\"\n",
    "    else:\n",
    "        print(\"---DECISION: DOCS NOT RELEVANT---\")\n",
    "        print(score)\n",
    "        return \"redo\""
   ]
  },
  {
   "cell_type": "code",
   "execution_count": 44,
   "metadata": {},
   "outputs": [],
   "source": [
    "# from langchain_google_genai import ChatGoogleGenerativeAI\n",
    "\n",
    "def redo(state):\n",
    "    \"\"\"\n",
    "    Invokes the agent model to generate a response based on the current state. Given\n",
    "    the question, it will decide to retrieve using the internet search tool.\n",
    "\n",
    "    Args:\n",
    "        state (messages): The current state\n",
    "\n",
    "    Returns:\n",
    "        dict: The updated state with the agent response appended to messages\n",
    "    \"\"\"\n",
    "    print(\"---CALL AGENT---\")\n",
    "    messages = state[\"messages\"]\n",
    "    question = messages[0].content\n",
    "    # model = ChatGoogleGenerativeAI(temperature=0.5, model=\"gemini-2.0-flash-exp\", streaming=True)\n",
    "    tools = [internet_search_tool]\n",
    "    model_with_tools = model.bind_tools(tools)\n",
    "    response = model_with_tools.invoke(question)\n",
    "    # We return a list, because this will get added to the existing list\n",
    "    return {\"messages\": [response]}"
   ]
  },
  {
   "cell_type": "code",
   "execution_count": 45,
   "metadata": {},
   "outputs": [],
   "source": [
    "from langchain import hub\n",
    "from langchain_core.output_parsers import StrOutputParser\n",
    "\n",
    "def generate(state):\n",
    "    \"\"\"\n",
    "    Generate answer\n",
    "\n",
    "    Args:\n",
    "        state (messages): The current state\n",
    "\n",
    "    Returns:\n",
    "         dict: The updated state with answer to the question\n",
    "    \"\"\"\n",
    "    print(\"---GENERATE---\")\n",
    "    messages = state[\"messages\"]\n",
    "    question = messages[0].content\n",
    "    last_message = messages[-1]\n",
    "    docs = last_message.content\n",
    "    # Prompt\n",
    "    prompt = hub.pull(\"rlm/rag-prompt\")\n",
    "    # LLM\n",
    "    # model = ChatGoogleGenerativeAI(temperature=0.5, model=\"gemini-2.0-flash-exp\", streaming=True)\n",
    "    # # Post-processing\n",
    "    # def format_docs(docs):\n",
    "    #     return \"\\n\\n\".join(doc.page_content for doc in docs)\n",
    "    # Chain\n",
    "    rag_chain = prompt | model | StrOutputParser()\n",
    "    # Run\n",
    "    response = rag_chain.invoke({\"context\": docs, \"question\": question})\n",
    "    return {\"messages\": [response]}"
   ]
  },
  {
   "cell_type": "code",
   "execution_count": 46,
   "metadata": {},
   "outputs": [],
   "source": [
    "from langgraph.graph import StateGraph\n",
    "\n",
    "# Define a new graph\n",
    "workflow = StateGraph(AgentState)"
   ]
  },
  {
   "cell_type": "code",
   "execution_count": 47,
   "metadata": {},
   "outputs": [
    {
     "data": {
      "text/plain": [
       "<langgraph.graph.state.StateGraph at 0x1358405b0>"
      ]
     },
     "execution_count": 47,
     "metadata": {},
     "output_type": "execute_result"
    }
   ],
   "source": [
    "from langgraph.graph import START\n",
    "from langgraph.prebuilt import ToolNode\n",
    "\n",
    "# Define the nodes we will cycle between\n",
    "workflow.add_node(\"agent\", agent)  # agent\n",
    "retrieve = ToolNode([retriever_tool])\n",
    "workflow.add_node(\"retrieve\", retrieve)  # retrieval\n",
    "workflow.add_node(\"redo\", redo)  # searching the internet\n",
    "search = ToolNode([internet_search_tool])\n",
    "workflow.add_node(\"search\", search)\n",
    "workflow.add_node(\"generate\", generate)  # Generating a response after we know the documents are relevant\n",
    "workflow.add_edge(START, \"agent\")"
   ]
  },
  {
   "cell_type": "code",
   "execution_count": 48,
   "metadata": {},
   "outputs": [
    {
     "data": {
      "text/plain": [
       "<langgraph.graph.state.StateGraph at 0x1358405b0>"
      ]
     },
     "execution_count": 48,
     "metadata": {},
     "output_type": "execute_result"
    }
   ],
   "source": [
    "from langgraph.graph import END\n",
    "from langgraph.prebuilt import tools_condition\n",
    "\n",
    "# Decide whether to retrieve\n",
    "workflow.add_conditional_edges(\n",
    "    \"agent\",\n",
    "    # Assess agent decision\n",
    "    tools_condition,\n",
    "    {\n",
    "        # Translate the condition outputs to nodes in our graph\n",
    "        \"tools\": \"retrieve\",\n",
    "        END: END,\n",
    "    },\n",
    ")\n",
    "\n",
    "# Edges taken after the `action` node is called.\n",
    "workflow.add_conditional_edges(\n",
    "    \"retrieve\",\n",
    "    # Assess agent decision\n",
    "    grade_documents,\n",
    ")"
   ]
  },
  {
   "cell_type": "code",
   "execution_count": 49,
   "metadata": {},
   "outputs": [
    {
     "data": {
      "text/plain": [
       "<langgraph.graph.state.StateGraph at 0x1358405b0>"
      ]
     },
     "execution_count": 49,
     "metadata": {},
     "output_type": "execute_result"
    }
   ],
   "source": [
    "# Decide whether to search internet\n",
    "workflow.add_conditional_edges(\n",
    "    \"redo\",\n",
    "    # Assess redo agent decision\n",
    "    tools_condition,\n",
    "    {\n",
    "        # Translate the condition outputs to nodes in our graph\n",
    "        \"tools\": \"search\",\n",
    "        END: END,\n",
    "    },\n",
    ")"
   ]
  },
  {
   "cell_type": "code",
   "execution_count": 50,
   "metadata": {},
   "outputs": [],
   "source": [
    "workflow.add_edge(\"generate\", END)\n",
    "workflow.add_edge(\"search\", \"generate\")\n",
    "\n",
    "# Compile\n",
    "graph = workflow.compile()"
   ]
  },
  {
   "cell_type": "code",
   "execution_count": 51,
   "metadata": {},
   "outputs": [
    {
     "data": {
      "image/png": "[encoded data removed]",
      "text/plain": [
       "<IPython.core.display.Image object>"
      ]
     },
     "metadata": {},
     "output_type": "display_data"
    }
   ],
   "source": [
    "from IPython.display import Image, display\n",
    "\n",
    "try:\n",
    "    display(Image(graph.get_graph(xray=True).draw_mermaid_png()))\n",
    "except Exception:\n",
    "    # This requires some extra dependencies and is optional\n",
    "    pass"
   ]
  },
  {
   "cell_type": "code",
   "execution_count": 52,
   "metadata": {},
   "outputs": [],
   "source": [
    "import pprint\n",
    "\n",
    "inputs = {\n",
    "    \"messages\": [\n",
    "        (\"user\", \"What is the age of Mrs. Oscar W?\"),\n",
    "    ]\n",
    "}"
   ]
  },
  {
   "cell_type": "code",
   "execution_count": 53,
   "metadata": {},
   "outputs": [
    {
     "name": "stdout",
     "output_type": "stream",
     "text": [
      "---CALL AGENT---\n",
      "\"Output from node 'agent':\"\n",
      "'---'\n",
      "{ 'messages': [ AIMessage(content=[{'type': 'tool_use', 'name': 'retrieve_csv_file', 'input': {'query': 'age of Mrs. Oscar W'}, 'id': 'tooluse_mCWJ_OUlRVCh5_QkN0Eirw'}], additional_kwargs={}, response_metadata={'ResponseMetadata': {'RequestId': 'a48b5b31-d741-4a72-94bf-4a0de55c021e', 'HTTPStatusCode': 200, 'HTTPHeaders': {'date': 'Wed, 29 Jan 2025 10:30:56 GMT', 'content-type': 'application/json', 'content-length': '296', 'connection': 'keep-alive', 'x-amzn-requestid': 'a48b5b31-d741-4a72-94bf-4a0de55c021e'}, 'RetryAttempts': 0}, 'stopReason': 'tool_use', 'metrics': {'latencyMs': [683]}}, id='run-4829714d-1c84-4c13-ba1f-e850edbd7f5d-0', tool_calls=[{'name': 'retrieve_csv_file', 'args': {'query': 'age of Mrs. Oscar W'}, 'id': 'tooluse_mCWJ_OUlRVCh5_QkN0Eirw', 'type': 'tool_call'}], usage_metadata={'input_tokens': 93, 'output_tokens': 30, 'total_tokens': 123})]}\n",
      "'\\n---\\n'\n",
      "---CHECK RELEVANCE---\n",
      "---DECISION: DOCS RELEVANT---\n",
      "\"Output from node 'retrieve':\"\n",
      "'---'\n",
      "{ 'messages': [ ToolMessage(content='Survived: 1\\nPclass: 3\\nName: Mrs. Carl Oscar (Selma Augusta Emilia Johansson) Asplund\\nSex: female\\nAge: 38\\nSiblings/Spouses Aboard: 1\\nParents/Children Aboard: 5\\nFare: 31.3875\\n\\nSurvived: 1\\nPclass: 3\\nName: Mrs. Carl Oscar (Selma Augusta Emilia Johansson) Asplund\\nSex: female\\nAge: 38\\nSiblings/Spouses Aboard: 1\\nParents/Children Aboard: 5\\nFare: 31.3875\\n\\nSurvived: 1\\nPclass: 3\\nName: Mrs. Oscar W (Elisabeth Vilhelmina Berg) Johnson\\nSex: female\\nAge: 27\\nSiblings/Spouses Aboard: 0\\nParents/Children Aboard: 2\\nFare: 11.1333\\n\\nSurvived: 1\\nPclass: 3\\nName: Mrs. Oscar W (Elisabeth Vilhelmina Berg) Johnson\\nSex: female\\nAge: 27\\nSiblings/Spouses Aboard: 0\\nParents/Children Aboard: 2\\nFare: 11.1333', name='retrieve_csv_file', id='fad55f7d-dbdf-4f12-a984-5d78fb8b5f51', tool_call_id='tooluse_mCWJ_OUlRVCh5_QkN0Eirw')]}\n",
      "'\\n---\\n'\n",
      "---GENERATE---\n",
      "\"Output from node 'generate':\"\n",
      "'---'\n",
      "{ 'messages': [ 'Mrs. Oscar W, also known as Elisabeth Vilhelmina Berg '\n",
      "                'Johnson, was 27 years old at the time the given context.']}\n",
      "'\\n---\\n'\n"
     ]
    }
   ],
   "source": [
    "for output in graph.stream(inputs):\n",
    "    for key, value in output.items():\n",
    "        pprint.pprint(f\"Output from node '{key}':\")\n",
    "        pprint.pprint(\"---\")\n",
    "        pprint.pprint(value, indent=2, width=80, depth=None)\n",
    "    pprint.pprint(\"\\n---\\n\")"
   ]
  },
  {
   "cell_type": "code",
   "execution_count": 54,
   "metadata": {},
   "outputs": [],
   "source": [
    "inputs = {\n",
    "    \"messages\": [\n",
    "        (\"user\", \"Who is the captain of Titanic?\"),\n",
    "    ]\n",
    "}"
   ]
  },
  {
   "cell_type": "code",
   "execution_count": 55,
   "metadata": {},
   "outputs": [
    {
     "name": "stdout",
     "output_type": "stream",
     "text": [
      "---CALL AGENT---\n",
      "\"Output from node 'agent':\"\n",
      "'---'\n",
      "{ 'messages': [ AIMessage(content=[{'type': 'tool_use', 'name': 'retrieve_csv_file', 'input': {'query': 'captain of Titanic'}, 'id': 'tooluse_EYWIJnsZSeqvPa85wwXMzg'}], additional_kwargs={}, response_metadata={'ResponseMetadata': {'RequestId': '07e766c0-c9f0-49ad-89f0-62b9deb99235', 'HTTPStatusCode': 200, 'HTTPHeaders': {'date': 'Wed, 29 Jan 2025 10:32:20 GMT', 'content-type': 'application/json', 'content-length': '295', 'connection': 'keep-alive', 'x-amzn-requestid': '07e766c0-c9f0-49ad-89f0-62b9deb99235'}, 'RetryAttempts': 0}, 'stopReason': 'tool_use', 'metrics': {'latencyMs': [741]}}, id='run-c332c93c-c8ea-428b-92f9-b98f68fc3c7a-0', tool_calls=[{'name': 'retrieve_csv_file', 'args': {'query': 'captain of Titanic'}, 'id': 'tooluse_EYWIJnsZSeqvPa85wwXMzg', 'type': 'tool_call'}], usage_metadata={'input_tokens': 92, 'output_tokens': 31, 'total_tokens': 123})]}\n",
      "'\\n---\\n'\n",
      "---CHECK RELEVANCE---\n",
      "---DECISION: DOCS NOT RELEVANT---\n",
      "no\n",
      "\"Output from node 'retrieve':\"\n",
      "'---'\n",
      "{ 'messages': [ ToolMessage(content='Survived: 0\\nPclass: 2\\nName: Mr. Reginald Charles Coleridge\\nSex: male\\nAge: 29\\nSiblings/Spouses Aboard: 0\\nParents/Children Aboard: 0\\nFare: 10.5\\n\\nSurvived: 0\\nPclass: 2\\nName: Mr. Reginald Charles Coleridge\\nSex: male\\nAge: 29\\nSiblings/Spouses Aboard: 0\\nParents/Children Aboard: 0\\nFare: 10.5\\n\\nSurvived: 0\\nPclass: 3\\nName: Mr. Ernest Portage Tomlin\\nSex: male\\nAge: 30.5\\nSiblings/Spouses Aboard: 0\\nParents/Children Aboard: 0\\nFare: 8.05\\n\\nSurvived: 0\\nPclass: 3\\nName: Mr. Ernest Portage Tomlin\\nSex: male\\nAge: 30.5\\nSiblings/Spouses Aboard: 0\\nParents/Children Aboard: 0\\nFare: 8.05', name='retrieve_csv_file', id='a07c5545-314f-476f-825b-e53fa4e70800', tool_call_id='tooluse_EYWIJnsZSeqvPa85wwXMzg')]}\n",
      "'\\n---\\n'\n",
      "---CALL AGENT---\n",
      "\"Output from node 'redo':\"\n",
      "'---'\n",
      "{ 'messages': [ AIMessage(content=[{'type': 'tool_use', 'name': 'tavily_search_results_json', 'input': {'query': 'captain of Titanic'}, 'id': 'tooluse_Vc-IIWdjSPOVEtTYxBetnw'}], additional_kwargs={}, response_metadata={'ResponseMetadata': {'RequestId': '0255065f-d648-4a34-97cc-2397b11eea76', 'HTTPStatusCode': 200, 'HTTPHeaders': {'date': 'Wed, 29 Jan 2025 10:32:22 GMT', 'content-type': 'application/json', 'content-length': '305', 'connection': 'keep-alive', 'x-amzn-requestid': '0255065f-d648-4a34-97cc-2397b11eea76'}, 'RetryAttempts': 0}, 'stopReason': 'tool_use', 'metrics': {'latencyMs': [764]}}, id='run-434bdfe5-2d00-450c-9fa3-73707af479b7-0', tool_calls=[{'name': 'tavily_search_results_json', 'args': {'query': 'captain of Titanic'}, 'id': 'tooluse_Vc-IIWdjSPOVEtTYxBetnw', 'type': 'tool_call'}], usage_metadata={'input_tokens': 116, 'output_tokens': 34, 'total_tokens': 150})]}\n",
      "'\\n---\\n'\n",
      "\"Output from node 'search':\"\n",
      "'---'\n",
      "{ 'messages': [ ToolMessage(content='[{\"url\": \"https://en.wikipedia.org/wiki/Edward_Smith_(sea_captain)\", \"content\": \"Edward Smith was the captain of the RMS Titanic, who went down with the ship on its maiden voyage in 1912. He was a British sea captain and naval officer with a long career in the White Star Line and the Royal Naval Reserve.\"}, {\"url\": \"https://titanicfacts.net/titanic-captain/\", \"content\": \"Read fascinating facts about the captain of the Titanic, Edward Smith. The life and loss of the RMS Titanic in numbers.\"}, {\"url\": \"https://allthatsinteresting.com/titanic-captain-edward-smith\", \"content\": \"Learn about the life and death of Edward John Smith, the British sea captain who became the captain of the RMS Titanic in 1912. Find out how he reacted to the iceberg collision, the sinking of the ship, and the controversy over his actions.\"}]', name='tavily_search_results_json', id='3fccacac-034e-49f5-90d1-3086fd17e3e1', tool_call_id='tooluse_Vc-IIWdjSPOVEtTYxBetnw', artifact={'query': 'captain of Titanic', 'follow_up_questions': None, 'answer': 'The captain of the Titanic was Edward Smith, a British sea captain and naval officer with a long career in the White Star Line and the Royal Naval Reserve. He went down with the ship on its maiden voyage in 1912.', 'images': ['https://vignette.wikia.nocookie.net/titanic-1997-movie/images/f/fc/Captain_Smith.png/revision/latest?cb=20160626150801', 'https://hips.hearstapps.com/hmg-prod/images/captain-edward-j-smith-aboard-the-titanic-during-the-run-from-southampton-to-queenstown-england-getty-copy.jpg?resize=1200:*', 'https://i.pinimg.com/originals/81/6f/b4/816fb438bdb0cc5fe153c5f984ba4850.png', 'https://www.findingdulcinea.com/wp-content/uploads/2023/06/Who-Was-the-Captain-of-the-Titanic-and-What-Happened-to-Him.jpg', 'https://i.pinimg.com/originals/75/f9/eb/75f9ebb01681908eab4d9a1d869429b8.jpg'], 'results': [{'title': 'Edward Smith (sea captain) - Wikipedia', 'url': 'https://en.wikipedia.org/wiki/Edward_Smith_(sea_captain)', 'content': 'Edward Smith was the captain of the RMS Titanic, who went down with the ship on its maiden voyage in 1912. He was a British sea captain and naval officer with a long career in the White Star Line and the Royal Naval Reserve.', 'score': 0.88564163, 'raw_content': 'Contents\\nEdward Smith (sea captain)\\n\\n\\nEdward John Smith RD RNR (27 January 1850 – 15 April 1912) was a British sea captain and naval officer. In 1880, he joined the White Star Line as an officer, beginning a long career in the British Merchant Navy. Smith went on to serve as the master of numerous White Star Line vessels. During the Second Boer War, he served in the Royal Naval Reserve, transporting British Imperial troops to the Cape Colony. Smith served as captain of the ocean liner Titanic, and went down with the ship when she sank on her maiden voyage.\\n\\nEarly life\\nEdward John Smith was born on 27 January 1850 on Well Street, Hanley, Staffordshire,[1][2] England to Edward Smith, a potter, and Catherine Hancock, born Marsh, who married on 2 August 1841 in Shelton, Staffordshire.[citation needed] His parents later owned a shop.\\n\\nSmith attended the British School in Etruria, Staffordshire, until the age of 13 when he left and operated a steam hammer at the Etruria Forge. In 1867, he went to Liverpool at the age of 17 in the footsteps of his half-brother Joseph Hancock, a captain on a sailing ship.[3] He began his apprenticeship on Senator Weber, owned by A Gibson & Co. of Liverpool.\\n\\nOn 13 January 1887, Smith married Sarah Eleanor Pennington at St Oswald\\'s Church, Winwick, Lancashire. Their daughter, Helen Melville Smith, was born in Waterloo, Liverpool on 2 April 1898. When the White Star line transferred its transatlantic port from Liverpool to Southampton in 1907, the family moved to a red brick, twin-gabled house, named \"Woodhead\", on Winn Road, Highfield, Southampton, Hampshire.[4][5]\\n\\nCareer\\nEarly commands\\nEdward Smith joined the White Star Line in March 1880 as the Fourth Officer of SS\\xa0Celtic.[6] He served aboard the company\\'s liners to Australia and to New York City, where he quickly rose in status. In 1887, he received his first White Star command, the Republic. Smith failed his first navigation exam, but on the next attempt in the following week he passed, and in February 1888, Smith earned his Extra Master\\'s Certificate. Smith joined the Royal Naval Reserve, receiving a commission as a lieutenant, which entitled him to add the letters \"RNR\" after his name. This meant that in a time of war he could be called upon to serve in the Royal Navy. His ships had the distinction of being able to fly the Blue Ensign of the RNR; British merchant vessels generally flew the Red Ensign.[7][8][9] Smith retired from the RNR in 1905 with the rank of Commander.\\n\\nLater commands\\nSmith was Majestic\\'s captain for nine years commencing in 1895. When the Second Boer War broke out in 1899, Majestic was called upon to transport British Imperial troops to the Cape Colony. Smith made two trips to South Africa, both without incident, and in 1903, for his service, King Edward VII awarded him the Transport Medal, showing the \"South Africa\" clasp. Smith was regarded as a \"safe captain\". As he rose in seniority, he gained a following amongst passengers with some sailing the Atlantic only on a ship he captained.[10]\\n\\nSmith even became known as the \"Millionaires\\' Captain\".[11] From 1904 on, Smith commanded the White Star Line\\'s newest ships on their maiden voyages. In 1904, he was given command of what was then the largest ship in the world, the Baltic. Her maiden voyage from Liverpool to New York, sailing 29 June 1904, went without incident. After three years with Baltic, Smith was given his second new \"big ship\", the Adriatic. Once again, the maiden voyage went without incident. During his command of Adriatic, Smith received the long service Decoration for Officers of the Royal Naval Reserve (RD).[12]\\n\\nAs one of the world\\'s most experienced sea captains, Smith was called upon to take first command of the lead ship in a new class of ocean liners, the Olympic – again, the largest vessel in the world at that time. The maiden voyage from Southampton to New York was successfully concluded on 21 June 1911, but as the ship was docking in New York harbour, a small incident took place. Docking at Pier 59 under the command of Captain Smith with the assistance of a harbour pilot, Olympic was being assisted by twelve tugs when one got caught in the backwash of Olympic, spun around, collided with the bigger ship, and for a moment was trapped under Olympic\\'s stern, finally managing to work free and limp to the docks.[citation needed]\\n\\nHawke incident\\nOn 20 September 1911, Olympic\\'s first major mishap occurred during a collision with a British warship, HMS\\xa0Hawke, in which the warship lost her prow. Although the collision left two of Olympic\\'s compartments filled and one of her propeller shafts twisted, she was able to limp back to Southampton. At the resultant inquiry, the Royal Navy blamed Olympic,[13][14] finding that her massive size generated a suction that pulled Hawke into her side.[15] Captain Smith had been on the bridge during the events.\\n\\nThe Hawke incident was a financial disaster for White Star, and the out-of-service time for the big liner made matters worse. Olympic returned to Belfast and, to speed up the repairs, Harland and Wolff was forced to delay Titanic\\'s completion in order to use one of her propeller shafts and other parts for Olympic. Back at sea in February 1912, Olympic lost a propeller blade and once again returned for emergency repairs. To get her back to service immediately, Harland and Wolff again had to pull resources from Titanic, delaying her maiden voyage from 20 March to 10 April.[citation needed]\\n\\nTitanic\\nDespite the past trouble, Smith was again appointed to command the newest ship in the Olympic class when Titanic left Southampton for her maiden voyage. Although some sources state that he had decided to retire after completing Titanic\\'s maiden voyage,[16] an article in the Halifax Morning Chronicle on 9 April 1912 stated that Smith would remain in charge of Titanic \"until the Company (White Star Line) completed a larger and finer steamer\".\\n\\nOn 10 April 1912, Smith came aboard Titanic at 7\\xa0a.m. to prepare for the Board of Trade muster at 8:00\\xa0a.m. He immediately went to his cabin to get the sailing report from Chief Officer Henry Wilde. After departure at noon, the huge amount of water displaced by Titanic as she passed caused the laid-up New York to break from her moorings and swing towards Titanic. Quick action from Smith helped to avert a premature end to the maiden voyage.\\n\\nThe first four days of the voyage passed without incident, but on 14 April 1912, Titanic\\'s radio operators[a] received six messages from other ships warning of drifting ice, which passengers on Titanic had begun to notice during the afternoon.\\n\\nAlthough the crew was aware of ice in the vicinity, they did not reduce the ship\\'s speed and continued to steam at 22 knots (41\\xa0km/h; 25\\xa0mph).[17][b] Titanic\\'s high speed in waters where ice had been reported was later criticised as reckless, but it reflected standard maritime practice at the time. According to Fifth Officer Harold Lowe, the custom was \"to go ahead and depend upon the lookouts in the crow\\'s nest and the watch on the bridge to \\'pick up\\' the ice in time to avoid hitting it\". Lowe, who was crossing the Atlantic for the first time in his life, admitted under examination that he had never heard that icebergs were common off the Grand Banks of Newfoundland and said that the fact would not have interested him if he had. He did not know that the Titanic was following what was called \"the southern track\", and made a guess that the ship was on the northerly one.[19]\\n\\nThe North Atlantic liners prioritised time-keeping above all other considerations, sticking rigidly to a schedule that would guarantee arrival at an advertised time. They were frequently driven at close to their full speed, treating hazard warnings as advisories rather than calls to action. It was widely believed that ice posed little risk; close calls were not uncommon, and even head-on collisions had not been disastrous. In 1907, SS\\xa0Kronprinz Wilhelm, a German liner, had rammed an iceberg and suffered a crushed bow, but was still able to complete her voyage. That same year Smith declared in an interview that he could not \"imagine any condition which would cause a ship to founder. Modern shipbuilding has gone beyond that.\"[20]\\n\\nShortly after 11:40\\xa0p.m. on 14 April, Smith was informed by First Officer William Murdoch that the ship had just collided with an iceberg. It was soon apparent that the ship was seriously damaged; designer Thomas Andrews reported that all of the first five of the ship\\'s compartments had been breached and that Titanic would sink in under two hours.\\n\\nThere are conflicting reports about Smith\\'s actions during the evacuation. Some say that he did all in his power to prevent panic and did his best to assist in the evacuation; Major Arthur Godfrey Peuchen of the Royal Canadian Yacht Club said, \"He was doing everything in his power to get women in these boats, and to see that they were lowered properly. I thought he was doing his duty in regard to the lowering of the boats\".[21] Robert Williams Daniel, a first-class passenger, said: \"Captain Smith was the biggest hero I ever saw. He stood on the bridge and shouted through a megaphone, trying to make himself heard.\"[22]\\n\\nOther sources say that he was very ineffective and inactive in preventing loss of life. Captain Smith was an experienced seaman who had served for 40 years at sea, including 27 years in command. This was the first crisis of his career, and he would have known that even if all the boats were fully occupied, more than a thousand people would remain on the ship as she went down, with little or no chance of survival.[23] As Smith began to grasp the enormity of what was about to happen, he appears to have become paralysed by indecision. He had ordered passengers and crew to muster, but from that point onward, he failed to order his officers to put the passengers into the lifeboats; he did not adequately organise the crew; he failed to convey crucial information to his officers and crew; he sometimes gave ambiguous or impractical orders and he never gave the command to abandon ship. Even some of his bridge officers were unaware for some time after the collision that the ship was sinking; Fourth Officer Joseph Boxhall did not find out until 01:15, barely an hour before the ship went down,[24] while Quartermaster George Rowe was so unaware of the emergency that after the evacuation had started, he phoned the bridge from his watch station to ask why he had just seen a lifeboat go past.[25] Smith did not inform his officers that the ship did not have enough lifeboats to save everyone. He did not supervise the loading of the lifeboats and seemingly made no effort to find out if his orders were being followed.[24][26]\\n\\nJust minutes before the ship started its final plunge, Smith was still busy releasing Titanic\\'s crew from their duties; he went to the Marconi operators\\' room and released Junior Marconi Officer Harold Bride and senior wireless operator John \"Jack\" Phillips from their duties. He then carried out a final tour of the deck, telling crew members: \"Now it\\'s every man for himself.\"[27] At 2:10\\xa0a.m., Steward Edward Brown saw the captain approach with a megaphone in his hand. He heard him say, \"Well, boys, do your best for the women and children, and look out for yourselves.\" He saw the Captain walk onto the bridge alone.[28] This was the last reliable sighting of Smith. A few minutes later Trimmer Samuel Hemming found the bridge apparently empty.[29] Five minutes later, the ship disappeared beneath the ocean. Smith perished that night along with around 1,500 others, and his body was never recovered.\\n\\nDeath\\nThere are conflicting accounts of Smith\\'s death. Some survivors[30] said they saw Smith enter the ship\\'s wheelhouse on the bridge, and die there when it was engulfed.[31] The New York Herald in its 19 April 1912 edition quoted Robert Williams Daniel, who jumped from the stern immediately before the ship sank, \"I saw Captain Smith on the bridge. My eyes seemingly clung to him. The deck from which I had leapt was immersed. The water had risen slowly, and was now to the floor of the bridge. Then it was to Captain Smith\\'s waist. I saw him no more. He died a hero.\"[32]\\n\\nCaptain Smith himself made statements hinting that he would go down with his ship if he was ever confronted with a disaster. A friend of Smith\\'s, Dr. Williams, asked Captain Smith what would happen if the Adriatic struck a concealed reef of ice and was badly damaged. \"Some of us would go to the bottom with the ship,\" was Smith\\'s reply. A boyhood friend, William Jones said, \"Ted Smith passed away just as he would have loved to do. To stand on the bridge of his vessel and go down with her was characteristic of all his actions when we were boys together.\"[33] Because of these factors, as well as accounts of Smith going inside the wheelhouse, this has remained the iconic image of Smith, perpetuated by film portrayals.\\n\\nWhen working to free Collapsible B, Junior Marconi Officer Harold Bride said he saw Captain Smith dive from the bridge into the sea just as Collapsible B was levered off the roof of the officers\\' quarters,[34] a story corroborated by first class passenger Mrs Eleanor Widener, who was in Lifeboat No. 4 (the closest to the sinking ship) at the time.[35] Also second class passenger William John Mellors, who survived aboard Collapsible B, stated that Smith jumped from the bridge.\\n[36] One writer states that witness and survivor Harold Bride \"could here be mistaking Captain Smith for Lightoller, who we know did exactly this at this time, first swimming towards the crow\\'s nest.\"[37]\\n\\nSeveral accounts say that Smith may have been seen in the water near the overturned Collapsible B during or after the sinking. Colonel Archibald Gracie reported that an unknown swimmer came near the capsized and overcrowded lifeboat and that one of the men on board told him \"Hold on to what you have, old boy. One more of you aboard would sink us all\"; in a powerful voice, the swimmer replied \"All right boys. Good luck and God bless you.\".[38] Gracie did not see this man, nor was able to identify him, but some other survivors later claimed to have recognised this man as Smith.[39][40] Another man (or possibly the same) never asked to come aboard the boat, but instead cheered its occupants saying \"Good boys! Good lads!\" with \"the voice of authority\".[41]\\n\\nOne of the Collapsible B survivors, fireman Walter Hurst, tried to reach him with an oar, but the rapidly rising swell carried the man away before he could reach him.[41] Hurst said he was certain this man was Smith.[41] Some of these accounts also describe Smith carrying a child to the boat. Harry Senior, one of Titanic\\'s stokers, and second class passenger Charles Eugene Williams, who both survived aboard Collapsible B, stated that Smith[36] swam with a child in his arms to Collapsible B, which Smith presented to a steward, after which he apparently swam back to the rapidly foundering ship. Williams\\' account differs slightly, claiming that, after Smith handed the child over to the steward, he asked what had become of First Officer Murdoch.\\n\\nUpon hearing news of Murdoch\\'s demise, Smith \"pushed himself away from the lifeboat, threw his lifebelt from him and slowly sank from our sight. He did not come to the surface again.\" These accounts are almost certainly apocryphal, according to historians featured in the A&E Documentary Titanic: Death of a Dream. Lightoller, who survived on Collapsible B, never reported seeing Smith in the water or receiving a child from him. There is also no way survivors on Collapsible B would have been able to verify an individual\\'s identity under such dimly lit and chaotic circumstances. It is more likely based on wishful thinking that the person they saw was the Captain.[42] Captain Smith\\'s fate will probably remain uncertain.\\n\\nFor many years, there were also conflicting accounts of Smith\\'s last words. Newspaper reports said that as the final plunge began, Smith advised those on board to \"Be British, boys. Be British!\" Although this is engraved on his memorial and portrayed in the 1996 TV miniseries, it is a popular myth.[43] If Smith had said these words to anyone, it would have been to the crew, but not one of the surviving crew members claimed he did. Because Steward Brown\\'s account of Smith giving orders before walking onto the bridge was the last reliable sighting, this would make Smith\\'s last words simply: \"Well, boys, do your best for the women and children, and look out for yourselves.\"[44]\\n\\nLegacy\\nA statue of Smith, sculpted by Kathleen Scott, widow of Antarctic explorer Robert Falcon Scott, was unveiled in July 1914 at the western end of the Museum Gardens in Beacon Park, Lichfield.[45] The pedestal is made from Cornish granite and the figure is bronze.[46] Lichfield was chosen as the location for the monument because Smith was a Staffordshire man and Lichfield was the centre of the diocese.[47] The statue originally cost £740 (£90,000 with inflation[48]) raised through local and national contributions.[47]\\n\\nIn 2010, as part of the \"Parks for People\" programme, the statue was restored and the green patina removed from its surface at a cost of £16,000.[47] In 2011 an unsuccessful campaign was started to get the statue moved to Captain Smith\\'s home town of Hanley.[49]\\n\\nSmith had already been commemorated in Hanley Town Hall with a plaque reading: \"This tablet is dedicated to the memory of Commander Edward John Smith RD, RNR. Born in Hanley, 27th Jany 1850, died at sea, 15th April 1912. Whilst in command of the White Star SS Titanic that great ship struck an iceberg in the Atlantic Ocean during the night and speedily sank with nearly all who were on board. Captain Smith having done all man could do for the safety of passengers and crew remained at his post on the sinking ship until the end. His last message to the crew was \\'Be British.\\'\"[50]\\n\\nThe plaque was removed in 1961, given to a local school and then returned to the Town Hall but remounted in the interior of the building in 1978.[51] The Titanic Brewery in Burslem, Stoke-on-Trent, is in honour of him.[52]\\n\\nAs a member of the Royal Naval Reserve, Smith wore his two decorations when in uniform: the Decoration for Officers of the Royal Naval Reserve and the Transport Medal.\\n\\nFamily\\nSmith\\'s mother, Catherine Hancock, lived in Runcorn, Cheshire, where Smith himself intended to retire. She died there in 1893. Smith\\'s half-sister Thyrza died in 1921 and his widow, Sarah Eleanor Smith, was hit and killed by a taxi in London in 1931.[53] Their daughter, Helen Melville, married and gave birth to twins in 1923, Simon and Priscilla. Simon, a pilot in the Royal Air Force, was killed in 1944, during World War II. Priscilla died from polio three years later; neither of them had children. Helen died in 1973.[2][failed verification]\\n\\nPortrayals\\nBibliography\\nNotes\\nReferences\\nSources\\nSee also\\nExternal links\\n'}, {'title': 'Titanic Captain • Titanic Facts', 'url': 'https://titanicfacts.net/titanic-captain/', 'content': 'Read fascinating facts about the captain of the Titanic, Edward Smith. The life and loss of the RMS Titanic in numbers.', 'score': 0.8657814, 'raw_content': 'Titanic Captain\\nJump to the story of the Titanic Captain\\nEdward John Smith\\n27 January 1850 – 15 April 1912\\nAlthough an experienced and long-serving skipper at the time he served as Captain of the Titanic, today – as then – there are mixed opinions on his performance in charge of the great ship. Smith’s judgement, decision-making, and his culpability (or otherwise) are still debated today. Here we present the key facts about the life and career of Captain Smith, and leave it to the reader to judge whether he was a hero or not.\\nAbove: Titanic Captain Edward John Smith.\\nEarly Life\\n27 January 1850 – the date of Captain Smith’s birth, in Hanley, Stoke-on-Trent, England.\\n86 Well Street – the address in Hanley where Edward was born (note: the house number is often, and wrongly, quoted as 51; this is a misreading of a reference to the 1851 census, within which Smith first appears).\\n07 October 1864 – the date on which Smith’s father, Edward senior, died at home. Aged 59, he had finally succumbed to the phthisis (a form of pulmonary tuberculosis) from which he had been suffering for some time.\\n11 October 1864 – date Smith’s father was buried, at Hanley municipal cemetery (in nearby Shelton).\\n1864 – the approximate year (exact date unknown) that Edward left Etruria British School and started work at Etruria Forge (this event may have been triggered by the death of his father).\\n14 – the approximate age at which Smith left school to work at the forge.\\nDid You Know?\\nSmith was a capable worker and whilst still in his teens was trained to operate a huge Nasmyth hydraulic steam hammer, making large wrought-iron components for ships.\\nCareer At Sea\\n17 – the age at which Smith left the forge, possibly motivated by declining demand in the iron industry, and travelled to Liverpool to look for new opportunities working at sea.\\nDid You Know?\\nSmith was following in the footsteps of his half-brother Joseph Hancock, who had gone to sea sometime in late 1849, early 1850. By the time Smith went to sea Joseph had risen to the rank of Captain.\\n05 February 1867 – the date on which Smith arrived in the city of Liverpool, travelling with friends and seeking work in the merchant navy. Smith signed up as an apprentice ship’s ‘Boy’ (the lowest rank of ordinary seaman) on an American packet ship, the Senator Webber, under the captaincy of his half-brother Joseph.\\n12 February 1867 – the date on which Smith’s first journey to sea began, a return trip to Hong Kong, then a busy and exotic international port, full of European, American, Australian and Asian shipping, and part of the British empire.\\n26 – the number of men and boys serving aboard the Senator Webber.\\n6 months – the length of the outward journey to Hong Kong, the Senator Webber arriving in August 1867.\\n200 – the approximate number of different ropes and their uses that Smith would have been required to learn, and quickly, an education that all sailors went through and giving the English language the idiom “knowing the ropes”. This was just one area to learn, others including setting the sails, wind and weather, the intricacies of navigation, an understanding of draft and displacement, and learning how to load a ship to ensure an “even keel”.\\n1871 – the year Smith was awarded a certificate of competency as Second Mate.\\n1873 – the year Smith gained his certificate as First Mate.\\n1875 – the year that Smith gained his Masters Certificate, allowing him to command vessels.\\n24 – the age at which Smith gained his Masters Certificate.\\nDid You Know?\\nEdward was often referred to as ‘E.J.’ by his crew-mates. This may have started during his first-ever voyage, upon the Senator Webber, on which there were two Edward Smiths serving in the crew.\\n1877 – the year Smith first took command of a ship, the 1,000-ton trade vessel Lizzie Fennell, running goods between Britain and South America.\\n26 – the age at which Smith took command of the Lizzie Fennell, much younger than the average age that men typically gained a captaincy, which was then closer to 40.\\n1880 – the year Smith joined the White Star Line, the company he would stay with for the rest of his life, and served on his first passenger vessel, as fourth officer aboard the liner SS Celtic.\\nDid You Know?\\nIn joining White Star Line Smith moved down a number of ranks, going from Captain to a junior officer position, but was happy to do so in order to gain the opportunity to serve on the larger, finer and more prestigious ships of the North Atlantic passenger crossings.\\n1882 – the year that Smith was promoted to second officer of the SS Coptic.\\n1885 – the year that Smith became first officer of the SS Republic I.\\n1887 – the year that Captain Smith took command of the SS Republic I.\\n37 – the age at which Smith captained this ship, the first passenger vessel he commanded both for White Star Line and in his career.\\n1888 – the year Captain Smith was awarded his Extra Master Mariner’s Certificate.\\nDid You Know?\\nCaptain Smith initially failed the examination for his Extra Master Mariner’s Certificate, on his navigational skills. He was re-tested the following week and this time he passed.\\n1888 – the year Captain Smith joined the Royal Naval Reserve, meaning that he could be called upon to serve in the Royal Navy during wartime, and could add the letters ‘RNR’ after his name.\\n18 – the number of White Star Line vessels commanded during his career.\\nIn all my experience, I have never been in any accident of any sort worth speaking about. I never saw a wreck and never have been wrecked, nor was I ever in any predicament that threatened to end in disaster of any sort.  -Captain Smith, speaking 5 years before the Titanic disaster\\n43 – the number of years of experience at sea at the time Smith took command of Titanic.\\n32 – the number of years served with the White Star Line.\\nDid the Captain of the Titanic die?\\nCaptain Smith did indeed perish when the Titanic sank. Some survivors reported seeing him inside the wheelhouse of the bridge as Titanic sank, whilst others claim to have seen Smith commit suicide using a pistol. No reliable account exists, however.\\n26 – the number of years of experience Captain Smith had gained in traveling the North Atlantic at the time he captained the Titanic.\\nAbove: The Titanic Captain Edward John Smith, depicted saving a child from the water, from a postcard published in 1912. This version of events is just one of many accounts from survivors (see ‘Did the captain of the Titanic die?’ above).\\n£200 – the annual bonus available to Captain Smith ‘if no ship under his command was involved in an incident’.\\n£16,000 – the approximate value of the bonus in current money [?].\\nWell boys, do your best for the women and children, and look out for yourselves.  -The possible last words of Captain Smith, Commander of Titanic, as witnessed by Ship Steward Brown\\n15 April 1912 – the date of Captain Smith’s death (he died when the ship sank).\\n62 – Smith’s age at the time of his death. Some believe he intended to retire after completing Titanic’s return trip, although the White Star Line had plans for Smith to command Gigantic on her maiden voyage.\\nFamily Life\\n13 January 1887 – the date of Smith’s marriage to Sarah Eleanor Pennington, a farmer’s daughter from Winwick in Cheshire, at St Oswald’s Church in the village.\\n02 April 1898 – the date their daughter was born, Helen Melville Smith (Helen was born in Waterloo, Liverpool although the Smiths were then living in Southampton). Helen was the couples’ only child.\\nDid You Know?\\nEleanor referred to her husband as ‘Teddy’ whilst he, through his correspondence whilst away at sea, referred to her as ‘my only dear one’.\\n1908 – the year Smith moved to Southampton, after almost 40 years spent living (when not at sea) in Waterloo, near Liverpool.\\n28 April 1931 – the date on which Eleanor Smith died. Knocked down by a taxi cab in Cromwell Road, London, she suffered a fractured skull and passed away in St Mary Abbot’s Hospital a little later. She was buried in the same grave as Captain Smith.\\n69 – Eleanor’s age at death.\\n19 – the number of years that Eleanor lived as a widow, never remarrying.\\nLegacy and Memorial\\n15 November 1912 – the date on which Captain Smith’s will was issued, in London, the sole beneficiary being his widow Eleanor.\\n£3,186 – the value of Captain Smith’s effects (more accurately, £3,186, 4s, 6d).\\n£190-250,000 – the equivalent value of Smith’s estate in 2016 money [?].\\n29 July 1914 – a bronze memorial statue of Captain Smith is unveiled in Beacon Park, Lichfield (the memorial was sculpted by Kathleen Scott, the wife of the Antarctic explorer Captain Robert Falcon Scott).\\n£740 – the original cost of the memorial.\\nThe Story of the Titanic Captain\\nCaptain Edward John Smith’s life, marked by triumphs and tragedies, exemplifies the spirit of exploration and dedication that defined the era of great maritime voyages. From his humble beginnings in Stoke-on-Trent to his final voyage on the Titanic, Smith’s journey is a poignant reminder of the human stories behind historical events.\\nBorn on 27 January 1850 in Hanley, Stoke-on-Trent, England, Edward John Smith grew up in a modest household at 86 Well Street. Tragedy struck early in his life when, on 07 October 1864, his father, Edward Smith Senior, succumbed to phthisis, a form of pulmonary tuberculosis. The loss of his father deeply impacted the young Edward, who was just 14 years old at the time. His father’s burial took place on 11 October 1864, at Hanley’s municipal cemetery in nearby Shelton.\\nBeginning of a maritime career\\nIn the wake of his father’s death, Smith left Etruria British School around 1864 to work at Etruria Forge, learning to operate a Nasmyth hydraulic steam hammer, which coincidentally played a crucial role in shipbuilding.\\nAt the age of 17, Smith left the forge, possibly influenced by the declining demand in the iron industry. He journeyed to Liverpool, seeking new horizons at sea, and thereby following in the footsteps of his half-brother Joseph Hancock, who had already established himself as a sea captain.\\nSmith’s apprenticeship and early voyages\\nUpon arriving in Liverpool on 05 February 1867, Smith embarked on his nautical journey. He signed up as an apprentice, taking the humble position of a ship’s ‘Boy’ on the Senator Webber, captained by his half-brother Joseph. His first voyage commenced on 12 February 1867, marking the start of an illustrious career at sea.\\nEducation at sea and rising through the ranks\\nDuring his early years at sea, Smith learned the intricacies of sailing, including the functions of approximately 200 different ropes – a knowledge that contributed to the English idiom “knowing the ropes”. His education encompassed various areas: setting sails, understanding wind and weather, mastering navigation, and learning the principles of draft and displacement. By 1871, Smith had earned his certificate of competency as Second Mate, followed by his First Mate certificate in 1873. In 1875, at the age of 24, he achieved his Master’s Certificate, allowing him to command vessels.\\nAscending to captaincy\\nSmith’s first command came in 1877 with the Lizzie Fennell, a 1,000-ton trade vessel. At 26, he was significantly younger than most men who reached captaincy, typically around 40. His career took a significant turn in 1880 when he joined the White Star Line, starting as a fourth officer on the SS Celtic. This move, though initially a step down in rank, was a strategic choice to serve on larger and more prestigious North Atlantic passenger ships.\\nPromotions and accomplishments\\nSmith’s proficiency and leadership skills led to a series of promotions within the White Star Line. He became the second officer of the SS Coptic in 1882, the first officer of the SS Republic I in 1885, and eventually captained the same ship in 1887. By the age of 37, he had captained his first passenger vessel for both the White Star Line and in his career.\\nIn 1888, Smith was awarded his Extra Master Mariner’s Certificate, despite initially failing the examination on navigational skills. He retook the test a week later and passed.\\nService in the Royal Naval Reserve\\nIn the same year, 1888, Smith joined the Royal Naval Reserve, a commitment that meant he could be called to serve in the Royal Navy during wartime. This affiliation allowed him to append ‘RNR’ after his name, signifying his readiness to serve his country in times of need.\\nCommanding the Titanic\\nBy the time he took command of the Titanic, Smith had amassed 43 years of experience at sea, including 32 years with the White Star Line and 26 years navigating the North Atlantic. His reputation as a skilled and experienced captain was further enhanced by the annual bonus of £200 he received for maintaining a record of no incidents under his command.\\nPersonal life and legacy\\nSmith married Sarah Eleanor Pennington on 13 January 1887. The couple welcomed their daughter, Helen Melville Smith, on 02 April 1898. Despite his demanding career, Smith maintained a loving relationship with his family, often referring to his wife affectionately in his correspondence while at sea.\\nThe family moved to Southampton in 1908, marking the end of nearly four decades of living in Waterloo, near Liverpool. Tragically, Smith perished on 15 April 1912, at the age of 62, during the sinking of the Titanic. It was speculated that he intended to retire after the Titanic’s return trip, though the White Star Line had plans for him to command the Gigantic on her maiden voyage.\\nSmith’s enduring legacy\\nSmith’s widow, Eleanor, lived 19 years as a widow, never remarrying, and died at the age of 69. The couple’s shared legacy continued through their daughter, Helen, and the enduring impact of Smith’s maritime career. His will, issued on 15 November 1912, left an estate valued at approximately £3,186, equivalent to more than £300,000 in modern money.\\nOn 29 July 1914, a bronze memorial statue of Captain Smith was unveiled in Beacon Park, Lichfield, commemorating his life and contributions to maritime history. The statue, crafted by Kathleen Scott, wife of Antarctic explorer Captain Robert Falcon Scott, stands as a testament to Smith’s enduring legacy.\\nMore To Explore\\nIf you have found these facts about the Titanic Captain interesting, why not read about the crew of the Titanic, about the ill-fated maiden voyage, and about the sinking of the ship.\\nThe Ship\\nThe People\\nThe Disaster\\n'}, {'title': \"Edward John Smith, The Captain Of The RMS Titanic - All That's Interesting\", 'url': 'https://allthatsinteresting.com/titanic-captain-edward-smith', 'content': 'Learn about the life and death of Edward John Smith, the British sea captain who became the captain of the RMS Titanic in 1912. Find out how he reacted to the iceberg collision, the sinking of the ship, and the controversy over his actions.', 'score': 0.8055255, 'raw_content': None}], 'response_time': 4.72})]}\n",
      "'\\n---\\n'\n",
      "---GENERATE---\n",
      "\"Output from node 'generate':\"\n",
      "'---'\n",
      "{ 'messages': [ 'Edward Smith, a British sea captain and naval officer, was '\n",
      "                'the captain of the RMS Titanic. He had a long career in the '\n",
      "                'White Star Line and the Royal Naval Reserve. Captain Smith '\n",
      "                'went down with the ship on its maiden voyage in 1912, '\n",
      "                'following the iceberg collision and the subsequent sinking.']}\n",
      "'\\n---\\n'\n"
     ]
    }
   ],
   "source": [
    "for output in graph.stream(inputs):\n",
    "    for key, value in output.items():\n",
    "        pprint.pprint(f\"Output from node '{key}':\")\n",
    "        pprint.pprint(\"---\")\n",
    "        pprint.pprint(value, indent=2, width=80, depth=None)\n",
    "    pprint.pprint(\"\\n---\\n\")"
   ]
  },
  {
   "cell_type": "code",
   "execution_count": null,
   "metadata": {},
   "outputs": [],
   "source": []
  }
 ],
 "metadata": {
  "kernelspec": {
   "display_name": ".venv",
   "language": "python",
   "name": "python3"
  },
  "language_info": {
   "codemirror_mode": {
    "name": "ipython",
    "version": 3
   },
   "file_extension": ".py",
   "mimetype": "text/x-python",
   "name": "python",
   "nbconvert_exporter": "python",
   "pygments_lexer": "ipython3",
   "version": "3.9.6"
  }
 },
 "nbformat": 4,
 "nbformat_minor": 2
}
