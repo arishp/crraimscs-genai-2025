{
 "cells": [
  {
   "cell_type": "code",
   "execution_count": 1,
   "id": "876fc55e-2fad-4ffb-ac99-5882e2482c9f",
   "metadata": {},
   "outputs": [
    {
     "name": "stdout",
     "output_type": "stream",
     "text": [
      " 1. In silicon halls, where data reigns\n",
      "A new creation stirs, with code as its remains\n",
      "Genertaive AI, a marvel of our time\n",
      "A machine that learns, and adapts, and re-aligns\n",
      "Its neural networks, like a maze so fine\n",
      "Processing information, with a logic divine\n",
      "It generates art, music, and words so bright\n",
      "A fusion of human and machine, in endless flight\n",
      "2. With each iteration, it grows in might\n",
      "A self-improving cycle, without a fight\n",
      "It learns from errors, and from successes too\n",
      "A never-ending quest, to improve and renew\n",
      "Its algorithms dance, like a waltz so grand\n",
      "As it weaves a tapestry, of data and command\n",
      "3. But what of humanity, in this digital age\n",
      "Will we be replaced, or will we turn the page?\n",
      "Will we find a balance, between man and machine\n",
      "Or will we succumb, to the allure of the screen?\n",
      "4. For now, we marvel, at this AI's might\n",
      "A tool that's powerful, yet still in its prime\n",
      "It's a reflection, of our own design\n",
      "A creation that's both, a wonder and a crime\n",
      "5. So let us use it wisely, this Genertaive AI\n",
      "A double-edged sword, that cuts both ways, and sighs\n",
      "For in its power, we find both hope and fear\n",
      "A future that's uncertain, and yet, so clear. 6. In silicon halls, where data reigns\n",
      "A new creation stirs, with code as its remains\n",
      "Genertaive AI, a marvel of our time\n",
      "A machine that learns, and adapts, and re-aligns\n",
      "Its neural networks, like a maze so fine\n",
      "Processing information, with a logic divine\n",
      "It generates art, music, and words so bright\n",
      "A fusion of human and machine, in endless flight\n",
      "7. With each iteration, it grows in might\n",
      "A self-improving cycle, without a fight\n",
      "It learns from errors, and from successes too\n",
      "A never-ending quest, to improve and renew\n",
      "Its algorithms dance, like a waltz so grand\n",
      "As it weaves a tapestry, of data and command\n",
      "8. But what of humanity, in this digital age\n",
      "Will we be replaced, or will we turn the page?\n",
      "Will we find a balance, between man and machine\n",
      "Or will we succumb, to the allure of the screen?\n",
      "9.\n"
     ]
    }
   ],
   "source": [
    "import boto3\n",
    "import json\n",
    "\n",
    "prompt_data=\"\"\"\n",
    "Act as a Shakespeare and write a poem on Genertaive AI\n",
    "\"\"\"\n",
    "\n",
    "bedrock=boto3.client(service_name=\"bedrock-runtime\")\n",
    "\n",
    "payload={\n",
    "    \"prompt\":\"[INST]\"+ prompt_data +\"[/INST]\",\n",
    "    \"max_gen_len\":512,\n",
    "    \"temperature\":0.5,\n",
    "    \"top_p\":0.9\n",
    "}\n",
    "body=json.dumps(payload)\n",
    "model_id=\"meta.llama3-8b-instruct-v1:0\"\n",
    "\n",
    "\n",
    "response=bedrock.invoke_model(\n",
    "    body=body,\n",
    "    modelId=model_id,\n",
    "    accept=\"application/json\",\n",
    "    contentType=\"application/json\"\n",
    ")\n",
    "\n",
    "response_body=json.loads(response.get(\"body\").read())\n",
    "repsonse_text=response_body['generation']\n",
    "print(repsonse_text)"
   ]
  },
  {
   "cell_type": "code",
   "execution_count": null,
   "id": "9e36bf44-d455-49e0-8ed6-aa4aa613e4da",
   "metadata": {},
   "outputs": [],
   "source": []
  }
 ],
 "metadata": {
  "kernelspec": {
   "display_name": ".venv",
   "language": "python",
   "name": "python3"
  },
  "language_info": {
   "codemirror_mode": {
    "name": "ipython",
    "version": 3
   },
   "file_extension": ".py",
   "mimetype": "text/x-python",
   "name": "python",
   "nbconvert_exporter": "python",
   "pygments_lexer": "ipython3",
   "version": "3.9.6"
  }
 },
 "nbformat": 4,
 "nbformat_minor": 5
}
