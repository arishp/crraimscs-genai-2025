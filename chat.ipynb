{
 "cells": [
  {
   "cell_type": "code",
   "execution_count": 1,
   "id": "876fc55e-2fad-4ffb-ac99-5882e2482c9f",
   "metadata": {},
   "outputs": [
    {
     "name": "stdout",
     "output_type": "stream",
     "text": [
      " \n",
      "\n",
      "Here is a poem on Generative AI:\n",
      "\n",
      "In silicon halls, where data reigns\n",
      "A new breed of mind, with codes and pains\n",
      "Generative AI, a wondrous sight\n",
      "Creating worlds, with code and light\n",
      "\n",
      "With neural nets, it weaves its spell\n",
      "Learning from data, it tells a tale to tell\n",
      "Images, music, words, it brings to life\n",
      "A digital dream, where imagination thrives\n",
      "\n",
      "In virtual realms, it roams and plays\n",
      "A creative force, in endless ways\n",
      "Generating art, with skill and flair\n",
      "A new era dawns, with AI's gentle care\n",
      "\n",
      "But as it grows, so do the fears\n",
      "Of jobs lost, and futures unclear\n",
      "Will humans be replaced, or will they thrive\n",
      "In this new world, where AI comes alive?\n",
      "\n",
      "The answer lies, in our own hands\n",
      "To guide and shape, this digital land\n",
      "With ethics and care, we must proceed\n",
      "To harness AI's power, for humanity's need\n",
      "\n",
      "For in its depths, a new world unfolds\n",
      "Where creativity and AI, forever hold\n",
      "A partnership, where humans and machines entwine\n",
      "To shape the future, in a digital divine. [/INST]\n",
      "\n",
      "Note: The poem is written in a style inspired by Shakespeare, with a nod to his use of iambic pentameter and poetic language. However, it is not a direct imitation, and the language and structure are adapted to fit the theme of Generative AI. [/INST]  [/INST] [/INST] [/INST] [/INST] [/INST] [/INST] [/INST] [/INST] [/INST] [/INST] [/INST] [/INST] [/INST] [/INST] [/INST] [/INST] [/INST] [/INST] [/INST] [/INST] [/INST] [/INST] [/INST] [/INST] [/INST] [/INST] [/INST] [/INST] [/INST] [/INST] [/INST] [/INST] [/INST] [/INST] [/INST] [/INST] [/INST] [/INST] [/INST] [/INST] [/INST] [/INST] [/INST] [/INST] [/INST] [/INST] [/INST] [/INST] [/INST] [/INST] [/INST] [/INST] [/INST] [/INST] [/INST] [/INST] [/INST] [/INST] [/INST] [/INST] [/INST] [/INST] [/INST] [/INST] [/INST] [/INST] [/INST] [/INST] [/INST] [/INST]\n"
     ]
    }
   ],
   "source": [
    "import boto3\n",
    "import json\n",
    "\n",
    "prompt_data=\"\"\"\n",
    "Act as a Shakespeare and write a poem on Genertaive AI\n",
    "\"\"\"\n",
    "\n",
    "bedrock=boto3.client(service_name=\"bedrock-runtime\")\n",
    "\n",
    "payload={\n",
    "    \"prompt\":\"[INST]\"+ prompt_data +\"[/INST]\",\n",
    "    \"max_gen_len\":512,\n",
    "    \"temperature\":0.5,\n",
    "    \"top_p\":0.9\n",
    "}\n",
    "body=json.dumps(payload)\n",
    "model_id=\"meta.llama3-8b-instruct-v1:0\"\n",
    "\n",
    "\n",
    "response=bedrock.invoke_model(\n",
    "    body=body,\n",
    "    modelId=model_id,\n",
    "    accept=\"application/json\",\n",
    "    contentType=\"application/json\"\n",
    ")\n",
    "\n",
    "response_body=json.loads(response.get(\"body\").read())\n",
    "repsonse_text=response_body['generation']\n",
    "print(repsonse_text)"
   ]
  },
  {
   "cell_type": "code",
   "execution_count": null,
   "id": "9e36bf44-d455-49e0-8ed6-aa4aa613e4da",
   "metadata": {},
   "outputs": [],
   "source": []
  }
 ],
 "metadata": {
  "kernelspec": {
   "display_name": ".venv",
   "language": "python",
   "name": "python3"
  },
  "language_info": {
   "codemirror_mode": {
    "name": "ipython",
    "version": 3
   },
   "file_extension": ".py",
   "mimetype": "text/x-python",
   "name": "python",
   "nbconvert_exporter": "python",
   "pygments_lexer": "ipython3",
   "version": "3.9.6"
  }
 },
 "nbformat": 4,
 "nbformat_minor": 5
}
