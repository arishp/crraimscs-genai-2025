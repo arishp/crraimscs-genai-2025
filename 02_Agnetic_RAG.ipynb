{
 "cells": [
  {
   "cell_type": "code",
   "execution_count": 2,
   "metadata": {},
   "outputs": [],
   "source": [
    "import warnings\n",
    "warnings.filterwarnings(\"ignore\")"
   ]
  },
  {
   "cell_type": "code",
   "execution_count": null,
   "metadata": {},
   "outputs": [],
   "source": [
    "# import pandas as pd\n",
    "\n",
    "# file_path = ('District_wise_crimes_committed_IPC_2001_2012.csv') # insert the path of the csv file\n",
    "# file_path = ('titanic.csv') # insert the path of the csv file\n",
    "# data = pd.read_csv(file_path)\n",
    "\n",
    "# #preview the csv file\n",
    "# data.head()"
   ]
  },
  {
   "cell_type": "code",
   "execution_count": 3,
   "metadata": {},
   "outputs": [
    {
     "data": {
      "text/html": [
       "<div>\n",
       "<style scoped>\n",
       "    .dataframe tbody tr th:only-of-type {\n",
       "        vertical-align: middle;\n",
       "    }\n",
       "\n",
       "    .dataframe tbody tr th {\n",
       "        vertical-align: top;\n",
       "    }\n",
       "\n",
       "    .dataframe thead th {\n",
       "        text-align: right;\n",
       "    }\n",
       "</style>\n",
       "<table border=\"1\" class=\"dataframe\">\n",
       "  <thead>\n",
       "    <tr style=\"text-align: right;\">\n",
       "      <th></th>\n",
       "      <th>Survived</th>\n",
       "      <th>Pclass</th>\n",
       "      <th>Name</th>\n",
       "      <th>Sex</th>\n",
       "      <th>Age</th>\n",
       "      <th>Siblings/Spouses Aboard</th>\n",
       "      <th>Parents/Children Aboard</th>\n",
       "      <th>Fare</th>\n",
       "    </tr>\n",
       "  </thead>\n",
       "  <tbody>\n",
       "    <tr>\n",
       "      <th>0</th>\n",
       "      <td>0</td>\n",
       "      <td>3</td>\n",
       "      <td>Mr. Owen Harris Braund</td>\n",
       "      <td>male</td>\n",
       "      <td>22.0</td>\n",
       "      <td>1</td>\n",
       "      <td>0</td>\n",
       "      <td>7.2500</td>\n",
       "    </tr>\n",
       "    <tr>\n",
       "      <th>1</th>\n",
       "      <td>1</td>\n",
       "      <td>1</td>\n",
       "      <td>Mrs. John Bradley (Florence Briggs Thayer) Cum...</td>\n",
       "      <td>female</td>\n",
       "      <td>38.0</td>\n",
       "      <td>1</td>\n",
       "      <td>0</td>\n",
       "      <td>71.2833</td>\n",
       "    </tr>\n",
       "    <tr>\n",
       "      <th>2</th>\n",
       "      <td>1</td>\n",
       "      <td>3</td>\n",
       "      <td>Miss. Laina Heikkinen</td>\n",
       "      <td>female</td>\n",
       "      <td>26.0</td>\n",
       "      <td>0</td>\n",
       "      <td>0</td>\n",
       "      <td>7.9250</td>\n",
       "    </tr>\n",
       "    <tr>\n",
       "      <th>3</th>\n",
       "      <td>1</td>\n",
       "      <td>1</td>\n",
       "      <td>Mrs. Jacques Heath (Lily May Peel) Futrelle</td>\n",
       "      <td>female</td>\n",
       "      <td>35.0</td>\n",
       "      <td>1</td>\n",
       "      <td>0</td>\n",
       "      <td>53.1000</td>\n",
       "    </tr>\n",
       "    <tr>\n",
       "      <th>4</th>\n",
       "      <td>0</td>\n",
       "      <td>3</td>\n",
       "      <td>Mr. William Henry Allen</td>\n",
       "      <td>male</td>\n",
       "      <td>35.0</td>\n",
       "      <td>0</td>\n",
       "      <td>0</td>\n",
       "      <td>8.0500</td>\n",
       "    </tr>\n",
       "  </tbody>\n",
       "</table>\n",
       "</div>"
      ],
      "text/plain": [
       "   Survived  Pclass                                               Name  \\\n",
       "0         0       3                             Mr. Owen Harris Braund   \n",
       "1         1       1  Mrs. John Bradley (Florence Briggs Thayer) Cum...   \n",
       "2         1       3                              Miss. Laina Heikkinen   \n",
       "3         1       1        Mrs. Jacques Heath (Lily May Peel) Futrelle   \n",
       "4         0       3                            Mr. William Henry Allen   \n",
       "\n",
       "      Sex   Age  Siblings/Spouses Aboard  Parents/Children Aboard     Fare  \n",
       "0    male  22.0                        1                        0   7.2500  \n",
       "1  female  38.0                        1                        0  71.2833  \n",
       "2  female  26.0                        0                        0   7.9250  \n",
       "3  female  35.0                        1                        0  53.1000  \n",
       "4    male  35.0                        0                        0   8.0500  "
      ]
     },
     "execution_count": 3,
     "metadata": {},
     "output_type": "execute_result"
    }
   ],
   "source": [
    "import pandas as pd\n",
    "\n",
    "file_path = ('titanic.csv') # insert the path of the csv file\n",
    "data = pd.read_csv(file_path)\n",
    "\n",
    "#preview the csv file\n",
    "data.head()"
   ]
  },
  {
   "cell_type": "code",
   "execution_count": 4,
   "metadata": {},
   "outputs": [],
   "source": [
    "from langchain_community.document_loaders.csv_loader import CSVLoader\n",
    "loader = CSVLoader(file_path=file_path)\n",
    "doc_splits = loader.load_and_split()"
   ]
  },
  {
   "cell_type": "code",
   "execution_count": 5,
   "metadata": {},
   "outputs": [],
   "source": [
    "from langchain_community.vectorstores import Chroma\n",
    "from langchain_aws import BedrockEmbeddings\n",
    "# from langchain_community.embeddings import BedrockEmbeddings\n",
    "import boto3\n",
    "# from langchain_google_genai import GoogleGenerativeAIEmbeddings\n",
    "\n",
    "bedrock_rt = boto3.client(service_name=\"bedrock-runtime\")\n",
    "embedding = BedrockEmbeddings(\n",
    "    client=bedrock_rt,\n",
    "    model_id=\"amazon.titan-embed-text-v1\"\n",
    "    )\n",
    "\n",
    "vectorstore = Chroma.from_documents(\n",
    "    documents=doc_splits,\n",
    "    collection_name=\"rag-chroma\",\n",
    "    embedding = embedding,\n",
    "    # embedding=GoogleGenerativeAIEmbeddings(model='models/embedding-001'),\n",
    "    persist_directory=\"vdb\"\n",
    ")"
   ]
  },
  {
   "cell_type": "code",
   "execution_count": 6,
   "metadata": {},
   "outputs": [],
   "source": [
    "retriever = vectorstore.as_retriever()"
   ]
  },
  {
   "cell_type": "code",
   "execution_count": 7,
   "metadata": {},
   "outputs": [
    {
     "data": {
      "text/plain": [
       "[Document(metadata={'row': 0, 'source': 'titanic.csv'}, page_content='Survived: 0\\nPclass: 3\\nName: Mr. Owen Harris Braund\\nSex: male\\nAge: 22\\nSiblings/Spouses Aboard: 1\\nParents/Children Aboard: 0\\nFare: 7.25'),\n",
       " Document(metadata={'row': 0, 'source': 'titanic.csv'}, page_content='Survived: 0\\nPclass: 3\\nName: Mr. Owen Harris Braund\\nSex: male\\nAge: 22\\nSiblings/Spouses Aboard: 1\\nParents/Children Aboard: 0\\nFare: 7.25'),\n",
       " Document(metadata={'row': 0, 'source': 'titanic.csv'}, page_content='Survived: 0\\nPclass: 3\\nName: Mr. Owen Harris Braund\\nSex: male\\nAge: 22\\nSiblings/Spouses Aboard: 1\\nParents/Children Aboard: 0\\nFare: 7.25'),\n",
       " Document(metadata={'row': 474, 'source': 'titanic.csv'}, page_content='Survived: 0\\nPclass: 3\\nName: Mr. Lewis Richard Braund\\nSex: male\\nAge: 29\\nSiblings/Spouses Aboard: 1\\nParents/Children Aboard: 0\\nFare: 7.0458')]"
      ]
     },
     "execution_count": 7,
     "metadata": {},
     "output_type": "execute_result"
    }
   ],
   "source": [
    "retriever.invoke(\"did Mr. Owen Harris Braund survive?\")"
   ]
  },
  {
   "cell_type": "code",
   "execution_count": 8,
   "metadata": {},
   "outputs": [],
   "source": [
    "from langchain.tools.retriever import create_retriever_tool\n",
    "\n",
    "retriever_tool = create_retriever_tool(\n",
    "    retriever,\n",
    "    \"retrieve_csv_file\",\n",
    "    \"Search and return information from the csv files.\",\n",
    ")"
   ]
  },
  {
   "cell_type": "code",
   "execution_count": 10,
   "metadata": {},
   "outputs": [
    {
     "data": {
      "text/plain": [
       "[{'url': 'https://www.atptour.com/en/news/murray-wimbledon-2024-reflections',\n",
       "  'content': \"Andy Murray's Wimbledon farewell: The man 'who left no stone unturned' | ATP Tour | Tennis Everything at Wimbledon came to a standstill Thursday evening when Andy Murray was honoured on Centre Court following his men’s doubles loss alongside brother Jamie Murray. At the time, Skupski looked up to Murray and followed his rise from a young talent to a national icon. Skupski, who has climbed to No. 1 in the PIF ATP Doubles Rankings, said that it is tough to see Murray’s career coming to a close, although Thursday’s loss was not his final match. And then when he said hi back it was like, 'Wow, I just spoke to Andy',” Skupski said.\"},\n",
       " {'url': 'https://www.nbcnews.com/news/sports/andy-murray-wimbledon-tennis-singles-draw-rcna159912',\n",
       "  'content': \"LONDON — Andy Murray, one of the last decade's most successful male tennis players, has pulled out of the singles tournament at what is almost certain to be his last Wimbledon, his team\"},\n",
       " {'url': 'https://apnews.com/article/wimbledon-djokovic-rain-injuries-slipping-1963887a00cdbcabb4d7ea9492028245',\n",
       "  'content': \"The woman who beat her last week, Jessica Bouzas Maneiro, stopped at Wimbledon because of a back issue in the third round against Krejcikova. Frances Tiafoe pulled out of the Queen's Club tournament before Wimbledon after spraining a ligament in his right knee when he took a tumble.\"}]"
      ]
     },
     "execution_count": 10,
     "metadata": {},
     "output_type": "execute_result"
    }
   ],
   "source": [
    "from langchain_community.tools import TavilySearchResults\n",
    "from dotenv import load_dotenv\n",
    "\n",
    "load_dotenv()\n",
    "\n",
    "internet_search_tool = TavilySearchResults(\n",
    "    max_results=3,\n",
    "    search_depth=\"advanced\",\n",
    "    include_answer=True,\n",
    "    include_raw_content=True,\n",
    "    include_images=True,\n",
    "    \n",
    ")\n",
    "internet_search_tool.invoke({\"query\": \"What happened at the last wimbledon\"})"
   ]
  },
  {
   "cell_type": "code",
   "execution_count": 11,
   "metadata": {},
   "outputs": [],
   "source": [
    "import boto3\n",
    "from langchain_aws import ChatBedrockConverse\n",
    "\n",
    "bedrock_rt = boto3.client(service_name=\"bedrock-runtime\")\n",
    "\n",
    "model_id = \"mistral.mistral-large-2402-v1:0\"\n",
    "\n",
    "model = ChatBedrockConverse(\n",
    "    client=bedrock_rt,\n",
    "    model_id=model_id,\n",
    ")"
   ]
  },
  {
   "cell_type": "code",
   "execution_count": 12,
   "metadata": {},
   "outputs": [],
   "source": [
    "from typing import Annotated, Sequence\n",
    "from typing_extensions import TypedDict\n",
    "from langchain_core.messages import BaseMessage\n",
    "from langgraph.graph.message import add_messages\n",
    "\n",
    "class AgentState(TypedDict):\n",
    "    # The add_messages function defines how an update should be processed\n",
    "    # Default is to replace. add_messages says \"append\"\n",
    "    messages: Annotated[Sequence[BaseMessage], add_messages]"
   ]
  },
  {
   "cell_type": "code",
   "execution_count": 13,
   "metadata": {},
   "outputs": [],
   "source": [
    "# from langchain_google_genai import ChatGoogleGenerativeAI\n",
    "\n",
    "def agent(state):\n",
    "    \"\"\"\n",
    "    Invokes the agent model to generate a response based on the current state. Given\n",
    "    the question, it will decide to retrieve using the retriever tool.\n",
    "\n",
    "    Args:\n",
    "        state (messages): The current state\n",
    "\n",
    "    Returns:\n",
    "        dict: The updated state with the agent response appended to messages\n",
    "    \"\"\"\n",
    "    print(\"---CALL AGENT---\")\n",
    "    messages = state[\"messages\"]\n",
    "    # model = ChatGoogleGenerativeAI(temperature=0.5, model=\"gemini-2.0-flash-exp\", streaming=True)\n",
    "    tools = [retriever_tool]\n",
    "    model_with_tools = model.bind_tools(tools)\n",
    "    response = model_with_tools.invoke(messages)\n",
    "    # We return a list, because this will get added to the existing list\n",
    "    return {\"messages\": [response]}"
   ]
  },
  {
   "cell_type": "code",
   "execution_count": 14,
   "metadata": {},
   "outputs": [],
   "source": [
    "from typing import Literal\n",
    "from langchain_core.prompts import PromptTemplate\n",
    "from pydantic import BaseModel, Field\n",
    "\n",
    "def grade_documents(state) -> Literal[\"generate\", \"redo\"]:\n",
    "    \"\"\"\n",
    "    Determines whether the retrieved documents are relevant to the question.\n",
    "\n",
    "    Args:\n",
    "        state (messages): The current state\n",
    "\n",
    "    Returns:\n",
    "        str: A decision for whether the documents are relevant or not\n",
    "    \"\"\"\n",
    "    print(\"---CHECK RELEVANCE---\")\n",
    "    # Data model\n",
    "    class grade(BaseModel):\n",
    "        \"\"\"Binary score for relevance check.\"\"\"\n",
    "        binary_score: str = Field(description=\"Relevance score 'yes' or 'no'\")\n",
    "    # LLM\n",
    "    # model = ChatGoogleGenerativeAI(temperature=0.5, model=\"gemini-2.0-flash-exp\", streaming=True)\n",
    "    # LLM with structured output for validation\n",
    "    structured_llm = model.with_structured_output(grade)\n",
    "    # Prompt\n",
    "    prompt = PromptTemplate(\n",
    "        template=\"\"\"You are a grader assessing relevance of a retrieved document to a user question. \\n \n",
    "        Here is the retrieved document: \\n\\n {context} \\n\\n\n",
    "        Here is the user question: {question} \\n\n",
    "        If the document contains keyword(s) or semantic meaning related to the user question, grade it as relevant. \\n\n",
    "        Give a binary score 'yes' or 'no' score to indicate whether the document is relevant to the question.\"\"\",\n",
    "        input_variables=[\"context\", \"question\"],\n",
    "    )\n",
    "    # Chain\n",
    "    chain = prompt | structured_llm\n",
    "    messages = state[\"messages\"]\n",
    "    last_message = messages[-1]\n",
    "    question = messages[0].content\n",
    "    docs = last_message.content\n",
    "    scored_result = chain.invoke({\"question\": question, \"context\": docs})\n",
    "    score = scored_result.binary_score\n",
    "    if score == \"yes\":\n",
    "        print(\"---DECISION: DOCS RELEVANT---\")\n",
    "        return \"generate\"\n",
    "    else:\n",
    "        print(\"---DECISION: DOCS NOT RELEVANT---\")\n",
    "        print(score)\n",
    "        return \"redo\""
   ]
  },
  {
   "cell_type": "code",
   "execution_count": 15,
   "metadata": {},
   "outputs": [],
   "source": [
    "# from langchain_google_genai import ChatGoogleGenerativeAI\n",
    "\n",
    "def redo(state):\n",
    "    \"\"\"\n",
    "    Invokes the agent model to generate a response based on the current state. Given\n",
    "    the question, it will decide to retrieve using the internet search tool.\n",
    "\n",
    "    Args:\n",
    "        state (messages): The current state\n",
    "\n",
    "    Returns:\n",
    "        dict: The updated state with the agent response appended to messages\n",
    "    \"\"\"\n",
    "    print(\"---CALL AGENT---\")\n",
    "    messages = state[\"messages\"]\n",
    "    question = messages[0].content\n",
    "    # model = ChatGoogleGenerativeAI(temperature=0.5, model=\"gemini-2.0-flash-exp\", streaming=True)\n",
    "    tools = [internet_search_tool]\n",
    "    model_with_tools = model.bind_tools(tools)\n",
    "    response = model_with_tools.invoke(question)\n",
    "    # We return a list, because this will get added to the existing list\n",
    "    return {\"messages\": [response]}"
   ]
  },
  {
   "cell_type": "code",
   "execution_count": 16,
   "metadata": {},
   "outputs": [],
   "source": [
    "from langchain import hub\n",
    "from langchain_core.output_parsers import StrOutputParser\n",
    "\n",
    "def generate(state):\n",
    "    \"\"\"\n",
    "    Generate answer\n",
    "\n",
    "    Args:\n",
    "        state (messages): The current state\n",
    "\n",
    "    Returns:\n",
    "         dict: The updated state with answer to the question\n",
    "    \"\"\"\n",
    "    print(\"---GENERATE---\")\n",
    "    messages = state[\"messages\"]\n",
    "    question = messages[0].content\n",
    "    last_message = messages[-1]\n",
    "    docs = last_message.content\n",
    "    # Prompt\n",
    "    prompt = hub.pull(\"rlm/rag-prompt\")\n",
    "    # LLM\n",
    "    # model = ChatGoogleGenerativeAI(temperature=0.5, model=\"gemini-2.0-flash-exp\", streaming=True)\n",
    "    # # Post-processing\n",
    "    # def format_docs(docs):\n",
    "    #     return \"\\n\\n\".join(doc.page_content for doc in docs)\n",
    "    # Chain\n",
    "    rag_chain = prompt | model | StrOutputParser()\n",
    "    # Run\n",
    "    response = rag_chain.invoke({\"context\": docs, \"question\": question})\n",
    "    return {\"messages\": [response]}"
   ]
  },
  {
   "cell_type": "code",
   "execution_count": 17,
   "metadata": {},
   "outputs": [],
   "source": [
    "from langgraph.graph import StateGraph\n",
    "\n",
    "# Define a new graph\n",
    "workflow = StateGraph(AgentState)"
   ]
  },
  {
   "cell_type": "code",
   "execution_count": 18,
   "metadata": {},
   "outputs": [
    {
     "data": {
      "text/plain": [
       "<langgraph.graph.state.StateGraph at 0x133ddfaf0>"
      ]
     },
     "execution_count": 18,
     "metadata": {},
     "output_type": "execute_result"
    }
   ],
   "source": [
    "from langgraph.graph import START\n",
    "from langgraph.prebuilt import ToolNode\n",
    "\n",
    "# Define the nodes we will cycle between\n",
    "workflow.add_node(\"agent\", agent)  # agent\n",
    "retrieve = ToolNode([retriever_tool])\n",
    "workflow.add_node(\"retrieve\", retrieve)  # retrieval\n",
    "workflow.add_node(\"redo\", redo)  # searching the internet\n",
    "search = ToolNode([internet_search_tool])\n",
    "workflow.add_node(\"search\", search)\n",
    "workflow.add_node(\"generate\", generate)  # Generating a response after we know the documents are relevant\n",
    "workflow.add_edge(START, \"agent\")"
   ]
  },
  {
   "cell_type": "code",
   "execution_count": 19,
   "metadata": {},
   "outputs": [
    {
     "data": {
      "text/plain": [
       "<langgraph.graph.state.StateGraph at 0x133ddfaf0>"
      ]
     },
     "execution_count": 19,
     "metadata": {},
     "output_type": "execute_result"
    }
   ],
   "source": [
    "from langgraph.graph import END\n",
    "from langgraph.prebuilt import tools_condition\n",
    "\n",
    "# Decide whether to retrieve\n",
    "workflow.add_conditional_edges(\n",
    "    \"agent\",\n",
    "    # Assess agent decision\n",
    "    tools_condition,\n",
    "    {\n",
    "        # Translate the condition outputs to nodes in our graph\n",
    "        \"tools\": \"retrieve\",\n",
    "        END: END,\n",
    "    },\n",
    ")\n",
    "\n",
    "# Edges taken after the `action` node is called.\n",
    "workflow.add_conditional_edges(\n",
    "    \"retrieve\",\n",
    "    # Assess agent decision\n",
    "    grade_documents,\n",
    ")"
   ]
  },
  {
   "cell_type": "code",
   "execution_count": 20,
   "metadata": {},
   "outputs": [
    {
     "data": {
      "text/plain": [
       "<langgraph.graph.state.StateGraph at 0x133ddfaf0>"
      ]
     },
     "execution_count": 20,
     "metadata": {},
     "output_type": "execute_result"
    }
   ],
   "source": [
    "# Decide whether to search internet\n",
    "workflow.add_conditional_edges(\n",
    "    \"redo\",\n",
    "    # Assess redo agent decision\n",
    "    tools_condition,\n",
    "    {\n",
    "        # Translate the condition outputs to nodes in our graph\n",
    "        \"tools\": \"search\",\n",
    "        END: END,\n",
    "    },\n",
    ")"
   ]
  },
  {
   "cell_type": "code",
   "execution_count": 21,
   "metadata": {},
   "outputs": [],
   "source": [
    "workflow.add_edge(\"generate\", END)\n",
    "workflow.add_edge(\"search\", \"generate\")\n",
    "\n",
    "# Compile\n",
    "graph = workflow.compile()"
   ]
  },
  {
   "cell_type": "code",
   "execution_count": 22,
   "metadata": {},
   "outputs": [
    {
     "data": {
      "image/png": "[encoded data removed]",
      "text/plain": [
       "<IPython.core.display.Image object>"
      ]
     },
     "metadata": {},
     "output_type": "display_data"
    }
   ],
   "source": [
    "from IPython.display import Image, display\n",
    "\n",
    "try:\n",
    "    display(Image(graph.get_graph(xray=True).draw_mermaid_png()))\n",
    "except Exception:\n",
    "    # This requires some extra dependencies and is optional\n",
    "    pass"
   ]
  },
  {
   "cell_type": "code",
   "execution_count": 23,
   "metadata": {},
   "outputs": [],
   "source": [
    "import pprint\n",
    "\n",
    "inputs = {\n",
    "    \"messages\": [\n",
    "        (\"user\", \"What is the age of Mrs. Oscar W?\"),\n",
    "    ]\n",
    "}"
   ]
  },
  {
   "cell_type": "code",
   "execution_count": 24,
   "metadata": {},
   "outputs": [
    {
     "name": "stdout",
     "output_type": "stream",
     "text": [
      "---CALL AGENT---\n",
      "\"Output from node 'agent':\"\n",
      "'---'\n",
      "{ 'messages': [ AIMessage(content=[{'type': 'tool_use', 'name': 'retrieve_csv_file', 'input': {'query': 'Mrs. Oscar W'}, 'id': 'tooluse_RsSG2qLfTdWfzXV7VkXmPA'}], additional_kwargs={}, response_metadata={'ResponseMetadata': {'RequestId': '4f2283f6-b0d2-481c-91b2-54f553cca9c7', 'HTTPStatusCode': 200, 'HTTPHeaders': {'date': 'Fri, 31 Jan 2025 07:52:18 GMT', 'content-type': 'application/json', 'content-length': '289', 'connection': 'keep-alive', 'x-amzn-requestid': '4f2283f6-b0d2-481c-91b2-54f553cca9c7'}, 'RetryAttempts': 0}, 'stopReason': 'tool_use', 'metrics': {'latencyMs': [676]}}, id='run-24825f22-187b-4c9e-bea6-e1d2aa8a3e40-0', tool_calls=[{'name': 'retrieve_csv_file', 'args': {'query': 'Mrs. Oscar W'}, 'id': 'tooluse_RsSG2qLfTdWfzXV7VkXmPA', 'type': 'tool_call'}], usage_metadata={'input_tokens': 93, 'output_tokens': 29, 'total_tokens': 122})]}\n",
      "'\\n---\\n'\n",
      "---CHECK RELEVANCE---\n",
      "---DECISION: DOCS RELEVANT---\n",
      "\"Output from node 'retrieve':\"\n",
      "'---'\n",
      "{ 'messages': [ ToolMessage(content='Survived: 1\\nPclass: 3\\nName: Mrs. Carl Oscar (Selma Augusta Emilia Johansson) Asplund\\nSex: female\\nAge: 38\\nSiblings/Spouses Aboard: 1\\nParents/Children Aboard: 5\\nFare: 31.3875\\n\\nSurvived: 1\\nPclass: 3\\nName: Mrs. Carl Oscar (Selma Augusta Emilia Johansson) Asplund\\nSex: female\\nAge: 38\\nSiblings/Spouses Aboard: 1\\nParents/Children Aboard: 5\\nFare: 31.3875\\n\\nSurvived: 1\\nPclass: 3\\nName: Mrs. Carl Oscar (Selma Augusta Emilia Johansson) Asplund\\nSex: female\\nAge: 38\\nSiblings/Spouses Aboard: 1\\nParents/Children Aboard: 5\\nFare: 31.3875\\n\\nSurvived: 1\\nPclass: 3\\nName: Mrs. Oscar W (Elisabeth Vilhelmina Berg) Johnson\\nSex: female\\nAge: 27\\nSiblings/Spouses Aboard: 0\\nParents/Children Aboard: 2\\nFare: 11.1333', name='retrieve_csv_file', id='496267a1-ea2f-4a2c-9e3f-42a2bc6e6467', tool_call_id='tooluse_RsSG2qLfTdWfzXV7VkXmPA')]}\n",
      "'\\n---\\n'\n",
      "---GENERATE---\n",
      "\"Output from node 'generate':\"\n",
      "'---'\n",
      "{ 'messages': [ 'Mrs. Oscar W, whose full name is Elisabeth Vilhelmina Berg '\n",
      "                'Johnson, was 27 years old at the time of the recorded data.']}\n",
      "'\\n---\\n'\n"
     ]
    }
   ],
   "source": [
    "for output in graph.stream(inputs):\n",
    "    for key, value in output.items():\n",
    "        pprint.pprint(f\"Output from node '{key}':\")\n",
    "        pprint.pprint(\"---\")\n",
    "        pprint.pprint(value, indent=2, width=80, depth=None)\n",
    "    pprint.pprint(\"\\n---\\n\")"
   ]
  },
  {
   "cell_type": "code",
   "execution_count": 25,
   "metadata": {},
   "outputs": [],
   "source": [
    "inputs = {\n",
    "    \"messages\": [\n",
    "        (\"user\", \"Who is the captain of Titanic?\"),\n",
    "    ]\n",
    "}"
   ]
  },
  {
   "cell_type": "code",
   "execution_count": 26,
   "metadata": {},
   "outputs": [
    {
     "name": "stdout",
     "output_type": "stream",
     "text": [
      "---CALL AGENT---\n",
      "\"Output from node 'agent':\"\n",
      "'---'\n",
      "{ 'messages': [ AIMessage(content=[{'type': 'tool_use', 'name': 'retrieve_csv_file', 'input': {'query': 'captain of Titanic'}, 'id': 'tooluse_3sVVtFsqQsOTuxXhjMkEZw'}], additional_kwargs={}, response_metadata={'ResponseMetadata': {'RequestId': '2f23543f-9465-4c79-a66e-4a192bb7786a', 'HTTPStatusCode': 200, 'HTTPHeaders': {'date': 'Fri, 31 Jan 2025 07:52:33 GMT', 'content-type': 'application/json', 'content-length': '295', 'connection': 'keep-alive', 'x-amzn-requestid': '2f23543f-9465-4c79-a66e-4a192bb7786a'}, 'RetryAttempts': 0}, 'stopReason': 'tool_use', 'metrics': {'latencyMs': [691]}}, id='run-1d7f36f0-9684-4794-b148-dce6b7758fe6-0', tool_calls=[{'name': 'retrieve_csv_file', 'args': {'query': 'captain of Titanic'}, 'id': 'tooluse_3sVVtFsqQsOTuxXhjMkEZw', 'type': 'tool_call'}], usage_metadata={'input_tokens': 92, 'output_tokens': 31, 'total_tokens': 123})]}\n",
      "'\\n---\\n'\n",
      "---CHECK RELEVANCE---\n",
      "---DECISION: DOCS NOT RELEVANT---\n",
      "no\n",
      "\"Output from node 'retrieve':\"\n",
      "'---'\n",
      "{ 'messages': [ ToolMessage(content='Survived: 0\\nPclass: 2\\nName: Mr. Reginald Charles Coleridge\\nSex: male\\nAge: 29\\nSiblings/Spouses Aboard: 0\\nParents/Children Aboard: 0\\nFare: 10.5\\n\\nSurvived: 0\\nPclass: 2\\nName: Mr. Reginald Charles Coleridge\\nSex: male\\nAge: 29\\nSiblings/Spouses Aboard: 0\\nParents/Children Aboard: 0\\nFare: 10.5\\n\\nSurvived: 0\\nPclass: 2\\nName: Mr. Reginald Charles Coleridge\\nSex: male\\nAge: 29\\nSiblings/Spouses Aboard: 0\\nParents/Children Aboard: 0\\nFare: 10.5\\n\\nSurvived: 0\\nPclass: 3\\nName: Mr. Ernest Portage Tomlin\\nSex: male\\nAge: 30.5\\nSiblings/Spouses Aboard: 0\\nParents/Children Aboard: 0\\nFare: 8.05', name='retrieve_csv_file', id='d4e4ab13-618a-41bf-a2a3-250146e20ac4', tool_call_id='tooluse_3sVVtFsqQsOTuxXhjMkEZw')]}\n",
      "'\\n---\\n'\n",
      "---CALL AGENT---\n",
      "\"Output from node 'redo':\"\n",
      "'---'\n",
      "{ 'messages': [ AIMessage(content=[{'type': 'tool_use', 'name': 'tavily_search_results_json', 'input': {'query': 'captain of Titanic'}, 'id': 'tooluse_9zLaMDUmQHKNMCL5lIAxrg'}], additional_kwargs={}, response_metadata={'ResponseMetadata': {'RequestId': '96c09ca2-7acd-4a9b-8b0f-23fa89516a52', 'HTTPStatusCode': 200, 'HTTPHeaders': {'date': 'Fri, 31 Jan 2025 07:52:36 GMT', 'content-type': 'application/json', 'content-length': '305', 'connection': 'keep-alive', 'x-amzn-requestid': '96c09ca2-7acd-4a9b-8b0f-23fa89516a52'}, 'RetryAttempts': 0}, 'stopReason': 'tool_use', 'metrics': {'latencyMs': [729]}}, id='run-fa01bedb-0537-49ec-b41e-276e8ef2c3fe-0', tool_calls=[{'name': 'tavily_search_results_json', 'args': {'query': 'captain of Titanic'}, 'id': 'tooluse_9zLaMDUmQHKNMCL5lIAxrg', 'type': 'tool_call'}], usage_metadata={'input_tokens': 116, 'output_tokens': 34, 'total_tokens': 150})]}\n",
      "'\\n---\\n'\n",
      "\"Output from node 'search':\"\n",
      "'---'\n",
      "{ 'messages': [ ToolMessage(content='[{\"url\": \"https://allthatsinteresting.com/titanic-captain-edward-smith\", \"content\": \"Edward John Smith, The Captain Of The RMS Titanic The True Story Of Edward John Smith, The Captain Of The Ill-Fated Titanic Edward John Smith was a British sea captain and naval officer with the White Star Line before fatefully becoming the captain of the RMS Titanic in 1912. Shortly after 11:40 p.m. on April 14, 1912, Captain Edward John Smith made his way to the deck of the Titanic after feeling a strange vibration. Titanic Captain Edward Smith’s Uncertain Final Moments Public DomainMost accounts state that Titanic Captain Edward Smith went down with the ship. Was Captain Edward John Smith to blame for the Titanic‘s sinking? Though rumors persisted that Smith had somehow survived the sinking, it’s almost certain that the captain of the Titanic went down with his ship.\"}, {\"url\": \"https://mollybrown.org/captain-smith/\", \"content\": \"Learn about Edward Smith, the captain of the Titanic, who had a successful career at sea and was well-liked by passengers. Find out what he did and did not do on the fateful night of the shipwreck and how he died.\"}, {\"url\": \"https://titanicfacts.net/titanic-captain/\", \"content\": \"In joining White Star Line Smith moved down a number of ranks, going from Captain to a junior officer position, but was happy to do so in order to gain the opportunity to serve on the larger, finer and more prestigious ships of the North Atlantic passenger crossings.\\\\n1882 – the year that Smith was promoted to second officer of the SS Coptic.\\\\n1885 – the year that Smith became first officer of the SS Republic I.\\\\n1887 – the year that Captain Smith took command of the SS Republic I.\\\\n37 – the age at which Smith captained this ship, the first passenger vessel he commanded both for White Star Line and in his career.\\\\n1888 – the year Captain Smith was awarded his Extra Master Mariner’s Certificate.\\\\n 26 – the age at which Smith took command of the Lizzie Fennell, much younger than the average age that men typically gained a captaincy, which was then closer to 40.\\\\n1880 – the year Smith joined the White Star Line, the company he would stay with for the rest of his life, and served on his first passenger vessel, as fourth officer aboard the liner SS Celtic.\\\\n Smith signed up as an apprentice ship’s ‘Boy’ (the lowest rank of ordinary seaman) on an American packet ship, the Senator Webber, under the captaincy of his half-brother Joseph.\\\\n12 February 1867 – the date on which Smith’s first journey to sea began, a return trip to Hong Kong, then a busy and exotic international port, full of European, American, Australian and Asian shipping, and part of the British empire.\\\\n His first voyage commenced on 12 February 1867, marking the start of an illustrious career at sea.\\\\nEducation at sea and rising through the ranks\\\\nDuring his early years at sea, Smith learned the intricacies of sailing, including the functions of approximately 200 different ropes – a knowledge that contributed to the English idiom “knowing the ropes”. 6 months – the length of the outward journey to Hong Kong, the Senator Webber arriving in August 1867.\\\\n200 – the approximate number of different ropes and their uses that Smith would have been required to learn, and quickly, an education that all sailors went through and giving the English language the idiom “knowing the ropes”.\"}]', name='tavily_search_results_json', id='3855cec4-f60a-4050-812d-4f412ba62f75', tool_call_id='tooluse_9zLaMDUmQHKNMCL5lIAxrg', artifact={'query': 'captain of Titanic', 'follow_up_questions': None, 'answer': 'The captain of the Titanic was Edward John Smith. He was a British sea captain and naval officer with the White Star Line who became the captain of the RMS Titanic in 1912. Most accounts state that Captain Edward John Smith went down with the ship when the Titanic sank on April 14, 1912.', 'images': ['https://vignette1.wikia.nocookie.net/titanic-1997-movie/images/f/fc/Captain_Smith.png/revision/latest?cb=20160626150801', 'http://vignette4.wikia.nocookie.net/jamescameronstitanic/images/f/f6/Edward_Smith.gif/revision/latest?cb=20120614215624', 'https://hips.hearstapps.com/hmg-prod/images/captain-edward-j-smith-aboard-the-titanic-during-the-run-from-southampton-to-queenstown-england-getty-copy.jpg?resize=1200:*', 'https://www.findingdulcinea.com/wp-content/uploads/2023/06/Who-Was-the-Captain-of-the-Titanic-and-What-Happened-to-Him.jpg', 'https://i.pinimg.com/originals/75/f9/eb/75f9ebb01681908eab4d9a1d869429b8.jpg'], 'results': [{'title': \"Edward John Smith, The Captain Of The RMS Titanic - All That's Interesting\", 'url': 'https://allthatsinteresting.com/titanic-captain-edward-smith', 'content': 'Edward John Smith, The Captain Of The RMS Titanic The True Story Of Edward John Smith, The Captain Of The Ill-Fated Titanic Edward John Smith was a British sea captain and naval officer with the White Star Line before fatefully becoming the captain of the RMS Titanic in 1912. Shortly after 11:40 p.m. on April 14, 1912, Captain Edward John Smith made his way to the deck of the Titanic after feeling a strange vibration. Titanic Captain Edward Smith’s Uncertain Final Moments Public DomainMost accounts state that Titanic Captain Edward Smith went down with the ship. Was Captain Edward John Smith to blame for the Titanic‘s sinking? Though rumors persisted that Smith had somehow survived the sinking, it’s almost certain that the captain of the Titanic went down with his ship.', 'score': 0.8482825, 'raw_content': 'Edward John Smith, The Captain Of The RMS Titanic\\n\\n\\nhistory\\n|\\ncuriosities\\n|\\narchaeology\\n|\\nnews\\n|\\n\\nToday In History\\n\\n\\nMembers\\n\\nPodcast\\nNewsletter\\nSearch\\n\\n\\n\\nFacebook\\nEmail\\n\\nThe True Story Of Edward John Smith, The Captain Of The Ill-Fated Titanic\\n===============================================================================\\nBy Kaleena Fraga | Edited By Jaclyn Anglis\\nPublished April 16, 2024\\nUpdated October 9, 2024\\nEdward John Smith was a British sea captain and naval officer with the White Star Line before fatefully becoming the captain of the RMS Titanic in 1912.\\nShortly after 11:40 p.m. on April 14, 1912, Captain Edward John Smith made his way to the deck of the Titanic after feeling a strange vibration. He asked a crew member what the ship had struck and received a chilling answer: “An iceberg, sir.”\\nThe rest of the story is well known. The ship sank. And as the captain of the Titanic, Smith apparently went down with it.\\nPublic DomainEdward Smith on the deck of the RMS Titanic. April 10, 1912.\\nBut Smith’s actions before, during, and after the catastrophic iceberg strike are difficult to unravel. Where was the captain of the Titanic when the ship hit the iceberg? How did he act as panic descended on the 2,240 passengers and crew members aboard? And was the sinking of the doomed ship, and the deaths of some 1,500 people aboard, his fault?\\nMore than 100 years later, the truth can be difficult to discern.\\nThe Seafaring Career Of Edward Smith\\nBorn on January 27, 1850 in Staffordshire, England, Edward John Smith started his seafaring journey at a young age. At 12 or 13, he left school and by 1867 had joined the crew of the Senator Weber.\\nFrom there, he enjoyed a fairly rapid rise. Smith became second mate in 1871, a first mate in 1873, and a master in 1875. In 1880, he took a job at White Star Line and went on to captain some of the company’s largest ships, including the Baltic, the Adriatic, and the Titanic‘s sister ship, the Olympic.\\nLibrary of CongressThe RMS Olympic, the Titanic‘s sister ship. June 1911.\\nOn the Olympic, Smith was involved in the worst catastrophe of his career (until he became captain of the Titanic). In September 1911, the Olympic collided with the HMS Hawke off the Isle of Wight. Though Smith was reportedly not directing the ship at the time, the Royal Navy protested that the Olympic had caused the collision by taking an abrupt turn. White Star Line vehemently disagreed, but ended up having to pay high legal fees.\\nDespite this, Smith maintained his sterling reputation. He was even known as the “Millionaire’s Captain” since, as the captain of some of White Star Line’s biggest ships, he often brushed shoulders with wealthy passengers.\\nSo he seemed an obvious choice to become captain of the RMS Titanic, White Star Line’s flagship and the biggest ship ever built.\\nRecent News\\ncuriosities 11 Urban Legends From The Darkest Depths Of Creepy Folklore By All That\\'s Interesting\\nThe Unsinkable Ship Sets Sail\\nOn April 10, 1912, the RMS Titanic set off on its maiden journey from Southhampton to New York. Not only was the grand ship packed with amenities like a squash court, an indoor swimming pool, and a gym, but many believed that it was “practically unsinkable.” Edward Smith himself allegedly declared: “Even God himself couldn’t sink this ship!” (Though the quote has also been attributed to a deckhand, if it was ever said at all.)\\nAfter leaving from its final port of Queenstown, Ireland (present-day Cobh), the Titanic‘s first few days at sea passed smoothly. But the ship soon started receiving warning messages about ice.\\nPublic DomainPurser Hugh Walter McElroy and Captain Edward J. Smith aboard the RMS Titanic. April 11, 1912.\\nBy 7:30 p.m. on April 14, the Titanic had received five warnings about ice. Smith saw some of these and posted them in the chart room, but some reportedly got lost in the muddle of other messages. With so many passengers on board, the radio operators were overwhelmed by the number of telegrams being transmitted.\\nAt 10:55 p.m., the Californian — the nearest ship to the Titanic — radioed to say that the ship had come to a full stop because of the treacherous icy water. But the Californian‘s operator failed to mark his messages as urgent enough to show to Smith, and the Titanic’s operator was so overwhelmed with incoming missives that, according to the New York Times, he snapped back: “Shut up, shut up! I am busy!”\\nLess than an hour later, at 11:40 p.m., the Titanic hit an iceberg.\\nHow The Captain Of The Titanic Reacted To The Sinking\\nEdward John Smith was off-duty and purportedly asleep when the ship hit ice. In fact, at least one passenger claimed he had been drinking before the catastrophic collision. However, he quickly reacted when he felt a vibration.\\nSmith purportedly appeared on the bridge shortly thereafter and asked First Officer William Murdoch what had happened. Murdoch replied that the ship had struck an iceberg, and Thomas Andrews, the ship’s designer, soon reported that the ship would sink in a matter of 60 to 90 minutes.\\nAt 12:05 a.m., Smith gave the order to ready the ship’s lifeboats. About ten minutes later, he instructed the radio operators to send a distress signal. When the Californian did not answer — only the Carpathia, four hours away, did — Smith also commanded the crew to send up emergency flares.\\nWikimedia CommonsThe iceberg that likely sunk the Titanic, smeared with red paint.\\nDuring this time, Smith also sometimes appeared rattled and distracted. Though he’d ordered the lifeboats to be uncovered, he apparently forgot to give the final command to lower them until 12:45 a.m., when Second Officer Charles Lightoller reminded him. He also apparently confused the Olympic and the Titanic when he commanded that the boats be lowered to the promenade deck which, on the Titanic, was partially enclosed with glass windows.\\nSometime after 2 a.m., with the Titanic sinking rapidly, Smith released his crew. “Well boys, you’ve done your duty and done it well,” he said according to crew member James McGann, as reported in the Liverpool Echo. “I ask no more of you. I release you. You know the rule of the sea. It’s every man for himself now, and God bless you.”\\nThe ship slipped beneath the frigid waters of the North Atlantic Ocean at 2:20 a.m. on April 15, 1912, taking some 1,500 people with it. But what happened to the Titanic’s captain?\\nTitanic Captain Edward Smith’s Uncertain Final Moments\\nIn the aftermath of the ship’s sinking, several Titanic survivors offered differing accounts of Edward John Smith’s fate.\\nPublic DomainMost accounts state that Titanic Captain Edward Smith went down with the ship.\\nA number of witnesses remembered seeing Smith on the Titanic’s deck as the ship sank. As reported in the Daily Sketch in 1912, survivor Robert Daniels recalled seeing the captain standing “on the bridge, shouting through the megaphone, trying to make himself heard.”\\nHis fellow passenger Laurence Beesley affirmed that: “The captain stood on the bridge and continued directing his men right up to the moment when the bridge on which he stood became level with the water.” Beesley added: “He then calmly climbed over the rail and dropped into the sea.”\\nOthers, however, remember Smith’s last moments differently. One described him swimming through the water and handing off an infant to passengers in the lifeboats. Another recalled him clinging to a lifeboat, only to lose his grip. And a handful of survivors claimed that Smith had died by suicide.\\nCaptain Arthur Rostron of the Carpathia — which sailed through the icy seas help the Titanic but did not arrive until about two hours after the ship had sunk — denied reports of Smith’s suicide to the press. Rostron claimed that Smith had stayed on the Titanic until water washed over the deck and then, despite reaching the edge of a lifeboat, drowned in the icy waters.\\n“Smith was one of the coolest, bravest and more careful commanders I have ever known,” Rostron told the Chicago Examiner after the incident, according to Titanic’s Officers. “His seamanship was of the highest order. Too high a tribute cannot be paid to him by anybody who knew him.”\\nStill, as investigative bodies on both sides of the Atlantic investigated the sinking, the Titanic captain’s culpability came into question.\\nPublic DomainAccounts of Captain Edward Smith’s final moments differ.\\nWhy Did The Titanic Sink?\\nWas Captain Edward John Smith to blame for the Titanic‘s sinking? Some have faulted him for maintaining a high speed during the doomed voyage, and for ignoring iceberg warnings. But the truth of these accusations is complex.\\nIt’s true that the Titanic was traveling fast, at a speed of 20.5 knots (23.6 mph) when it hit the iceberg. Why?\\nSome have theorized that Smith was trying to beat the record set by the Olympic, that he was pressured into maintaining a high speed by J. Bruce Ismay, the White Star chairman onboard the ship, that he believed that the crew would have time to react to ice sightings, even at high speed, or that the high speed was necessary because of a fire burning in the ship’s coal bunkers. But his motivations are uncertain.\\nAs for the icebergs? Smith didn’t outright ignore the warnings, but he may have taken them less seriously than he should have. G.J. Cooper, who wrote Titanic Captain: The Life of Edward John Smith, explained that Smith may have “registered” the warnings without reacting to them.\\n“Smith certainly did not ignore ice warnings per se, and he made sure the ones that reached the bridge were all posted in the chart room,” Cooper told the BBC in 2012. He added: “However, ice warnings were just that, simply warnings that ice was seen at X coordinates at a certain time which Smith may have registered rather than reacted to.”\\nPublic DomainThe bathtub in Captain Edward Smith’s bathroom aboard the RMS Titanic.\\nThat said, British and American investigations into Smith’s conduct came to different conclusions. Though the British investigation found that he had reacted without fault, History reports that the American investigation concluded that Smith’s “indifference to danger was one of the direct and contributing causes of this unnecessary tragedy.”\\nHowever, Edward Smith wasn’t alone to blame for the sinking. The ship may have been made with faulty rivets, its “watertight” compartments turned out to be not watertight at all, and the captain of the nearby Californian failed to respond to the Titanic‘s multiple calls of distress. (The captain, Stanley Lord, had reportedly been informed about the emergency flares sent up by the Titanic, but chose not to investigate.)\\nThough rumors persisted that Smith had somehow survived the sinking, it’s almost certain that the captain of the Titanic went down with his ship.\\n\\nAfter reading about Edward Smith, the captain of the _Titanic, learn about some of the wildest conspiracy theories about the Titanic’s sinking. Or discover the heartbreaking stories behind these Titanic artifacts._\\n\\nShare\\nFlipboard\\nEmail\\n\\nauthor\\n\\nauthor\\nKaleena Fraga\\n\\n\\n\\n\\nA staff writer for All That\\'s Interesting, Kaleena Fraga has also had her work featured in The Washington Post and Gastro Obscura, and she published a book on the Seattle food scene for the Eat Like A Local series. She graduated from Oberlin College, where she earned a dual degree in American History and French.\\neditor\\n\\neditor\\nJaclyn Anglis\\n\\n\\n\\nJaclyn is the senior managing editor at All That\\'s Interesting. She holds a Master\\'s degree in journalism from the City University of New York and a Bachelor\\'s degree in English writing and history (double major) from DePauw University. She is interested in American history, true crime, modern history, pop culture, and science.\\nCitation copied\\nCOPY\\nCite This Article\\nFraga, Kaleena. \"The True Story Of Edward John Smith, The Captain Of The Ill-Fated Titanic.\" AllThatsInteresting.com, April 16, 2024, https://allthatsinteresting.com/titanic-captain-edward-smith. Accessed October 26, 2024.\\nSign Up For The ATI Newsletter\\nSign Up\\nPrevious Post This 2,500-Year-Old Erotic Graffiti Found On A Greek Island Is Among The World\\'s OldestNext Post Meet Louis Zamperini, The Legendary Olympian Who Became A World War II Hero\\nYou might also like\\n\\n 100 Interesting Facts About The World Trending on ATI\\n What Stephen Hawking Thinks Threatens Humankind The Most Trending on ATI\\n\\n 27 Raw Images Of When Punk Ruled New York Trending on ATI\\n\\n\\nAbout\\n\\nEditorial Standards\\nJobs\\nPrivacy Policy\\n\\n×\\nFollow hu On\\n\\nJoin The All That\\'s Interesting Weekly Dispatch\\nLike Follow\\nPO Box 24091\\nBrooklyn, NY 11202-4091'}, {'title': 'Who was Captain Smith and What Was His Role in the Sinking of the Titanic?', 'url': 'https://mollybrown.org/captain-smith/', 'content': 'Learn about Edward Smith, the captain of the Titanic, who had a successful career at sea and was well-liked by passengers. Find out what he did and did not do on the fateful night of the shipwreck and how he died.', 'score': 0.8259413, 'raw_content': None}, {'title': 'Titanic Captain • Titanic Facts', 'url': 'https://titanicfacts.net/titanic-captain/', 'content': 'In joining White Star Line Smith moved down a number of ranks, going from Captain to a junior officer position, but was happy to do so in order to gain the opportunity to serve on the larger, finer and more prestigious ships of the North Atlantic passenger crossings.\\n1882 – the year that Smith was promoted to second officer of the SS Coptic.\\n1885 – the year that Smith became first officer of the SS Republic I.\\n1887 – the year that Captain Smith took command of the SS Republic I.\\n37 – the age at which Smith captained this ship, the first passenger vessel he commanded both for White Star Line and in his career.\\n1888 – the year Captain Smith was awarded his Extra Master Mariner’s Certificate.\\n 26 – the age at which Smith took command of the Lizzie Fennell, much younger than the average age that men typically gained a captaincy, which was then closer to 40.\\n1880 – the year Smith joined the White Star Line, the company he would stay with for the rest of his life, and served on his first passenger vessel, as fourth officer aboard the liner SS Celtic.\\n Smith signed up as an apprentice ship’s ‘Boy’ (the lowest rank of ordinary seaman) on an American packet ship, the Senator Webber, under the captaincy of his half-brother Joseph.\\n12 February 1867 – the date on which Smith’s first journey to sea began, a return trip to Hong Kong, then a busy and exotic international port, full of European, American, Australian and Asian shipping, and part of the British empire.\\n His first voyage commenced on 12 February 1867, marking the start of an illustrious career at sea.\\nEducation at sea and rising through the ranks\\nDuring his early years at sea, Smith learned the intricacies of sailing, including the functions of approximately 200 different ropes – a knowledge that contributed to the English idiom “knowing the ropes”. 6 months – the length of the outward journey to Hong Kong, the Senator Webber arriving in August 1867.\\n200 – the approximate number of different ropes and their uses that Smith would have been required to learn, and quickly, an education that all sailors went through and giving the English language the idiom “knowing the ropes”.', 'score': 0.68496037, 'raw_content': 'Titanic Captain\\nJump to the story of the Titanic Captain\\nEdward John Smith\\n27 January 1850 – 15 April 1912\\nAlthough an experienced and long-serving skipper at the time he served as Captain of the Titanic, today – as then – there are mixed opinions on his performance in charge of the great ship. Smith’s judgement, decision-making, and his culpability (or otherwise) are still debated today. Here we present the key facts about the life and career of Captain Smith, and leave it to the reader to judge whether he was a hero or not.\\nAbove: Titanic Captain Edward John Smith.\\nEarly Life\\n27 January 1850 – the date of Captain Smith’s birth, in Hanley, Stoke-on-Trent, England.\\n86 Well Street – the address in Hanley where Edward was born (note: the house number is often, and wrongly, quoted as 51; this is a misreading of a reference to the 1851 census, within which Smith first appears).\\n07 October 1864 – the date on which Smith’s father, Edward senior, died at home. Aged 59, he had finally succumbed to the phthisis (a form of pulmonary tuberculosis) from which he had been suffering for some time.\\n11 October 1864 – date Smith’s father was buried, at Hanley municipal cemetery (in nearby Shelton).\\n1864 – the approximate year (exact date unknown) that Edward left Etruria British School and started work at Etruria Forge (this event may have been triggered by the death of his father).\\n14 – the approximate age at which Smith left school to work at the forge.\\nDid You Know?\\nSmith was a capable worker and whilst still in his teens was trained to operate a huge Nasmyth hydraulic steam hammer, making large wrought-iron components for ships.\\nCareer At Sea\\n17 – the age at which Smith left the forge, possibly motivated by declining demand in the iron industry, and travelled to Liverpool to look for new opportunities working at sea.\\nDid You Know?\\nSmith was following in the footsteps of his half-brother Joseph Hancock, who had gone to sea sometime in late 1849, early 1850. By the time Smith went to sea Joseph had risen to the rank of Captain.\\n05 February 1867 – the date on which Smith arrived in the city of Liverpool, travelling with friends and seeking work in the merchant navy. Smith signed up as an apprentice ship’s ‘Boy’ (the lowest rank of ordinary seaman) on an American packet ship, the Senator Webber, under the captaincy of his half-brother Joseph.\\n12 February 1867 – the date on which Smith’s first journey to sea began, a return trip to Hong Kong, then a busy and exotic international port, full of European, American, Australian and Asian shipping, and part of the British empire.\\n26 – the number of men and boys serving aboard the Senator Webber.\\n6 months – the length of the outward journey to Hong Kong, the Senator Webber arriving in August 1867.\\n200 – the approximate number of different ropes and their uses that Smith would have been required to learn, and quickly, an education that all sailors went through and giving the English language the idiom “knowing the ropes”. This was just one area to learn, others including setting the sails, wind and weather, the intricacies of navigation, an understanding of draft and displacement, and learning how to load a ship to ensure an “even keel”.\\n1871 – the year Smith was awarded a certificate of competency as Second Mate.\\n1873 – the year Smith gained his certificate as First Mate.\\n1875 – the year that Smith gained his Masters Certificate, allowing him to command vessels.\\n24 – the age at which Smith gained his Masters Certificate.\\nDid You Know?\\nEdward was often referred to as ‘E.J.’ by his crew-mates. This may have started during his first-ever voyage, upon the Senator Webber, on which there were two Edward Smiths serving in the crew.\\n1877 – the year Smith first took command of a ship, the 1,000-ton trade vessel Lizzie Fennell, running goods between Britain and South America.\\n26 – the age at which Smith took command of the Lizzie Fennell, much younger than the average age that men typically gained a captaincy, which was then closer to 40.\\n1880 – the year Smith joined the White Star Line, the company he would stay with for the rest of his life, and served on his first passenger vessel, as fourth officer aboard the liner SS Celtic.\\nDid You Know?\\nIn joining White Star Line Smith moved down a number of ranks, going from Captain to a junior officer position, but was happy to do so in order to gain the opportunity to serve on the larger, finer and more prestigious ships of the North Atlantic passenger crossings.\\n1882 – the year that Smith was promoted to second officer of the SS Coptic.\\n1885 – the year that Smith became first officer of the SS Republic I.\\n1887 – the year that Captain Smith took command of the SS Republic I.\\n37 – the age at which Smith captained this ship, the first passenger vessel he commanded both for White Star Line and in his career.\\n1888 – the year Captain Smith was awarded his Extra Master Mariner’s Certificate.\\nDid You Know?\\nCaptain Smith initially failed the examination for his Extra Master Mariner’s Certificate, on his navigational skills. He was re-tested the following week and this time he passed.\\n1888 – the year Captain Smith joined the Royal Naval Reserve, meaning that he could be called upon to serve in the Royal Navy during wartime, and could add the letters ‘RNR’ after his name.\\n18 – the number of White Star Line vessels commanded during his career.\\nIn all my experience, I have never been in any accident of any sort worth speaking about. I never saw a wreck and never have been wrecked, nor was I ever in any predicament that threatened to end in disaster of any sort.\\n-Captain Smith, speaking 5 years before the Titanic disaster\\n43 – the number of years of experience at sea at the time Smith took command of Titanic.\\n32 – the number of years served with the White Star Line.\\nDid the Captain of the Titanic die?\\nCaptain Smith did indeed perish when the Titanic sank. Some survivors reported seeing him inside the wheelhouse of the bridge as Titanic sank, whilst others claim to have seen Smith commit suicide using a pistol. No reliable account exists, however.\\n26 – the number of years of experience Captain Smith had gained in traveling the North Atlantic at the time he captained the Titanic.\\nAbove: The Titanic Captain Edward John Smith, depicted saving a child from the water, from a postcard published in 1912. This version of events is just one of many accounts from survivors (see ‘Did the captain of the Titanic die?’ above).\\n£200 – the annual bonus available to Captain Smith ‘if no ship under his command was involved in an incident’.\\n£16,000 – the approximate value of the bonus in current money [?].\\nWell boys, do your best for the women and children, and look out for yourselves.\\n-The possible last words of Captain Smith, Commander of Titanic, as witnessed by Ship Steward Brown\\n15 April 1912 – the date of Captain Smith’s death (he died when the ship sank).\\n62 – Smith’s age at the time of his death. Some believe he intended to retire after completing Titanic’s return trip, although the White Star Line had plans for Smith to command Gigantic on her maiden voyage.\\nFamily Life\\n13 January 1887 – the date of Smith’s marriage to Sarah Eleanor Pennington, a farmer’s daughter from Winwick in Cheshire, at St Oswald’s Church in the village.\\n02 April 1898 – the date their daughter was born, Helen Melville Smith (Helen was born in Waterloo, Liverpool although the Smiths were then living in Southampton). Helen was the couples’ only child.\\nDid You Know?\\nEleanor referred to her husband as ‘Teddy’ whilst he, through his correspondence whilst away at sea, referred to her as ‘my only dear one’.\\n1908 – the year Smith moved to Southampton, after almost 40 years spent living (when not at sea) in Waterloo, near Liverpool.\\n28 April 1931 – the date on which Eleanor Smith died. Knocked down by a taxi cab in Cromwell Road, London, she suffered a fractured skull and passed away in St Mary Abbot’s Hospital a little later. She was buried in the same grave as Captain Smith.\\n69 – Eleanor’s age at death.\\n19 – the number of years that Eleanor lived as a widow, never remarrying.\\nLegacy and Memorial\\n15 November 1912 – the date on which Captain Smith’s will was issued, in London, the sole beneficiary being his widow Eleanor.\\n£3,186 – the value of Captain Smith’s effects (more accurately, £3,186, 4s, 6d).\\n£190-250,000 – the equivalent value of Smith’s estate in 2016 money [?].\\n29 July 1914 – a bronze memorial statue of Captain Smith is unveiled in Beacon Park, Lichfield (the memorial was sculpted by Kathleen Scott, the wife of the Antarctic explorer Captain Robert Falcon Scott).\\n£740 – the original cost of the memorial.\\nThe Story of the Titanic Captain\\nCaptain Edward John Smith’s life, marked by triumphs and tragedies, exemplifies the spirit of exploration and dedication that defined the era of great maritime voyages. From his humble beginnings in Stoke-on-Trent to his final voyage on the Titanic, Smith’s journey is a poignant reminder of the human stories behind historical events.\\nBorn on 27 January 1850 in Hanley, Stoke-on-Trent, England, Edward John Smith grew up in a modest household at 86 Well Street. Tragedy struck early in his life when, on 07 October 1864, his father, Edward Smith Senior, succumbed to phthisis, a form of pulmonary tuberculosis. The loss of his father deeply impacted the young Edward, who was just 14 years old at the time. His father’s burial took place on 11 October 1864, at Hanley’s municipal cemetery in nearby Shelton.\\nBeginning of a maritime career\\nIn the wake of his father’s death, Smith left Etruria British School around 1864 to work at Etruria Forge, learning to operate a Nasmyth hydraulic steam hammer, which coincidentally played a crucial role in shipbuilding.\\nAt the age of 17, Smith left the forge, possibly influenced by the declining demand in the iron industry. He journeyed to Liverpool, seeking new horizons at sea, and thereby following in the footsteps of his half-brother Joseph Hancock, who had already established himself as a sea captain.\\nSmith’s apprenticeship and early voyages\\nUpon arriving in Liverpool on 05 February 1867, Smith embarked on his nautical journey. He signed up as an apprentice, taking the humble position of a ship’s ‘Boy’ on the Senator Webber, captained by his half-brother Joseph. His first voyage commenced on 12 February 1867, marking the start of an illustrious career at sea.\\nEducation at sea and rising through the ranks\\nDuring his early years at sea, Smith learned the intricacies of sailing, including the functions of approximately 200 different ropes – a knowledge that contributed to the English idiom “knowing the ropes”. His education encompassed various areas: setting sails, understanding wind and weather, mastering navigation, and learning the principles of draft and displacement. By 1871, Smith had earned his certificate of competency as Second Mate, followed by his First Mate certificate in 1873. In 1875, at the age of 24, he achieved his Master’s Certificate, allowing him to command vessels.\\nAscending to captaincy\\nSmith’s first command came in 1877 with the Lizzie Fennell, a 1,000-ton trade vessel. At 26, he was significantly younger than most men who reached captaincy, typically around 40. His career took a significant turn in 1880 when he joined the White Star Line, starting as a fourth officer on the SS Celtic. This move, though initially a step down in rank, was a strategic choice to serve on larger and more prestigious North Atlantic passenger ships.\\nPromotions and accomplishments\\nSmith’s proficiency and leadership skills led to a series of promotions within the White Star Line. He became the second officer of the SS Coptic in 1882, the first officer of the SS Republic I in 1885, and eventually captained the same ship in 1887. By the age of 37, he had captained his first passenger vessel for both the White Star Line and in his career.\\nIn 1888, Smith was awarded his Extra Master Mariner’s Certificate, despite initially failing the examination on navigational skills. He retook the test a week later and passed.\\nService in the Royal Naval Reserve\\nIn the same year, 1888, Smith joined the Royal Naval Reserve, a commitment that meant he could be called to serve in the Royal Navy during wartime. This affiliation allowed him to append ‘RNR’ after his name, signifying his readiness to serve his country in times of need.\\nCommanding the Titanic\\nBy the time he took command of the Titanic, Smith had amassed 43 years of experience at sea, including 32 years with the White Star Line and 26 years navigating the North Atlantic. His reputation as a skilled and experienced captain was further enhanced by the annual bonus of £200 he received for maintaining a record of no incidents under his command.\\nPersonal life and legacy\\nSmith married Sarah Eleanor Pennington on 13 January 1887. The couple welcomed their daughter, Helen Melville Smith, on 02 April 1898. Despite his demanding career, Smith maintained a loving relationship with his family, often referring to his wife affectionately in his correspondence while at sea.\\nThe family moved to Southampton in 1908, marking the end of nearly four decades of living in Waterloo, near Liverpool. Tragically, Smith perished on 15 April 1912, at the age of 62, during the sinking of the Titanic. It was speculated that he intended to retire after the Titanic’s return trip, though the White Star Line had plans for him to command the Gigantic on her maiden voyage.\\nSmith’s enduring legacy\\nSmith’s widow, Eleanor, lived 19 years as a widow, never remarrying, and died at the age of 69. The couple’s shared legacy continued through their daughter, Helen, and the enduring impact of Smith’s maritime career. His will, issued on 15 November 1912, left an estate valued at approximately £3,186, equivalent to more than £300,000 in modern money.\\nOn 29 July 1914, a bronze memorial statue of Captain Smith was unveiled in Beacon Park, Lichfield, commemorating his life and contributions to maritime history. The statue, crafted by Kathleen Scott, wife of Antarctic explorer Captain Robert Falcon Scott, stands as a testament to Smith’s enduring legacy.\\nMore To Explore\\nIf you have found these facts about the Titanic Captain interesting, why not read about the crew of the Titanic, about the ill-fated maiden voyage, and about the sinking of the ship.\\nThe Ship\\nThe People\\nThe Disaster'}], 'response_time': 6.21})]}\n",
      "'\\n---\\n'\n",
      "---GENERATE---\n",
      "\"Output from node 'generate':\"\n",
      "'---'\n",
      "{ 'messages': [ 'The captain of the Titanic was Edward John Smith. He was a '\n",
      "                'British sea captain and naval officer who had a successful '\n",
      "                'career at sea and was well-liked by passengers. He became the '\n",
      "                'captain of the RMS Titanic in 1912 and unfortunately, went '\n",
      "                'down with the ship when it sank.']}\n",
      "'\\n---\\n'\n"
     ]
    }
   ],
   "source": [
    "for output in graph.stream(inputs):\n",
    "    for key, value in output.items():\n",
    "        pprint.pprint(f\"Output from node '{key}':\")\n",
    "        pprint.pprint(\"---\")\n",
    "        pprint.pprint(value, indent=2, width=80, depth=None)\n",
    "    pprint.pprint(\"\\n---\\n\")"
   ]
  }
 ],
 "metadata": {
  "kernelspec": {
   "display_name": ".venv",
   "language": "python",
   "name": "python3"
  },
  "language_info": {
   "codemirror_mode": {
    "name": "ipython",
    "version": 3
   },
   "file_extension": ".py",
   "mimetype": "text/x-python",
   "name": "python",
   "nbconvert_exporter": "python",
   "pygments_lexer": "ipython3",
   "version": "3.9.6"
  }
 },
 "nbformat": 4,
 "nbformat_minor": 2
}
